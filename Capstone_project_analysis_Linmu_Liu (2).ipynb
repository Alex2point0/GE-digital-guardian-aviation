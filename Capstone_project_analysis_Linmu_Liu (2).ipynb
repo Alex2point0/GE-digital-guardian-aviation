{
 "cells": [
  {
   "cell_type": "markdown",
   "metadata": {},
   "source": [
    "### My dataset is provided by GE company. I will be performing logitics regression to predict the outcome variable malicious, either Yes or No which is a binary variable.\n"
   ]
  },
  {
   "cell_type": "code",
   "execution_count": 1,
   "metadata": {},
   "outputs": [],
   "source": [
    "import pandas as pd\n",
    "import numpy as np\n",
    "import matplotlib.pyplot as plt\n",
    "import time\n",
    "import seaborn as sns\n",
    "%matplotlib inline"
   ]
  },
  {
   "cell_type": "markdown",
   "metadata": {},
   "source": [
    "## Data Exploration "
   ]
  },
  {
   "cell_type": "code",
   "execution_count": null,
   "metadata": {},
   "outputs": [],
   "source": [
    "#load csv files\n",
    "alert_by_indi = pd.read_csv('alerts_by_indicators.csv')\n",
    "alert_by_pair = pd.read_csv('alerts_by_pairs.csv')\n",
    "demo_gra = pd.read_csv('demographics (4).csv' , encoding='latin-1')\n",
    "heat_score = pd.read_csv('heat_scores.csv')\n",
    "main_table = pd.read_csv('processed_alerts_obfuscated_summer_2019.csv')\n",
    "#merge tables ()\n",
    "main_table_heat_score = pd.merge(main_table,heat_score,left_on='INDICATORS',right_on='SHARED_INDICATION_NAME',how='left')\n",
    "main_table_heat_score_demo_gra = pd.merge(main_table_heat_score,demo_gra,on='EMPLOYEE_ID',how='left')\n",
    "main_table_heat_score_demo_gra.to_csv('ALY6980_merged_data.csv',index='false')"
   ]
  },
  {
   "cell_type": "code",
   "execution_count": 2,
   "metadata": {
    "scrolled": true
   },
   "outputs": [
    {
     "data": {
      "text/html": [
       "<div>\n",
       "<style scoped>\n",
       "    .dataframe tbody tr th:only-of-type {\n",
       "        vertical-align: middle;\n",
       "    }\n",
       "\n",
       "    .dataframe tbody tr th {\n",
       "        vertical-align: top;\n",
       "    }\n",
       "\n",
       "    .dataframe thead th {\n",
       "        text-align: right;\n",
       "    }\n",
       "</style>\n",
       "<table border=\"1\" class=\"dataframe\">\n",
       "  <thead>\n",
       "    <tr style=\"text-align: right;\">\n",
       "      <th></th>\n",
       "      <th>Unnamed: 0</th>\n",
       "      <th>TYPE_NAME</th>\n",
       "      <th>ALERT_ESCALATION_DATE</th>\n",
       "      <th>ALERT_ID_FK</th>\n",
       "      <th>INSERT_DATE</th>\n",
       "      <th>SCORE</th>\n",
       "      <th>STATUS</th>\n",
       "      <th>RESOLUTION</th>\n",
       "      <th>OWNER_NAME</th>\n",
       "      <th>MALICIOUS</th>\n",
       "      <th>...</th>\n",
       "      <th>DIVISION_NAME</th>\n",
       "      <th>BUSINESS_SEGMENT</th>\n",
       "      <th>INDUSTRY_FOCUS_NAME</th>\n",
       "      <th>GE_HIRE_DATE</th>\n",
       "      <th>LOCATION_NAME</th>\n",
       "      <th>CITY</th>\n",
       "      <th>STATE_NAME</th>\n",
       "      <th>COUNTRY_NAME</th>\n",
       "      <th>COUNTRY</th>\n",
       "      <th>FUNCTION_GROUP</th>\n",
       "    </tr>\n",
       "  </thead>\n",
       "  <tbody>\n",
       "    <tr>\n",
       "      <th>0</th>\n",
       "      <td>0</td>\n",
       "      <td>TP</td>\n",
       "      <td>3/26/18</td>\n",
       "      <td>3.195298e+08</td>\n",
       "      <td>9/29/17</td>\n",
       "      <td>180</td>\n",
       "      <td>cleared</td>\n",
       "      <td>closed</td>\n",
       "      <td>Senior_Analyst_1</td>\n",
       "      <td>yes</td>\n",
       "      <td>...</td>\n",
       "      <td>AVI SC-Chief Manufacturing Engineering</td>\n",
       "      <td>Aviation Supply Chain</td>\n",
       "      <td>GE Aviation</td>\n",
       "      <td>11/13/07 0:00</td>\n",
       "      <td>Evendale OH US</td>\n",
       "      <td>Evendale</td>\n",
       "      <td>Ohio</td>\n",
       "      <td>United States</td>\n",
       "      <td>US</td>\n",
       "      <td>Production</td>\n",
       "    </tr>\n",
       "    <tr>\n",
       "      <th>1</th>\n",
       "      <td>1</td>\n",
       "      <td>TP</td>\n",
       "      <td>3/26/18</td>\n",
       "      <td>1.633243e+09</td>\n",
       "      <td>9/29/17</td>\n",
       "      <td>172</td>\n",
       "      <td>cleared</td>\n",
       "      <td>closed</td>\n",
       "      <td>Senior_Analyst_1</td>\n",
       "      <td>yes</td>\n",
       "      <td>...</td>\n",
       "      <td>AVI ENG-GE 9X Engineering</td>\n",
       "      <td>Aviation Engineering</td>\n",
       "      <td>GE Aviation</td>\n",
       "      <td>7/23/07 0:00</td>\n",
       "      <td>WestChester OH US 2</td>\n",
       "      <td>West Chester</td>\n",
       "      <td>Ohio</td>\n",
       "      <td>United States</td>\n",
       "      <td>US</td>\n",
       "      <td>Production</td>\n",
       "    </tr>\n",
       "    <tr>\n",
       "      <th>2</th>\n",
       "      <td>2</td>\n",
       "      <td>TP</td>\n",
       "      <td>3/26/18</td>\n",
       "      <td>1.633243e+09</td>\n",
       "      <td>9/29/17</td>\n",
       "      <td>172</td>\n",
       "      <td>cleared</td>\n",
       "      <td>closed</td>\n",
       "      <td>Senior_Analyst_1</td>\n",
       "      <td>yes</td>\n",
       "      <td>...</td>\n",
       "      <td>AVI ENG-GE 9X Engineering</td>\n",
       "      <td>Aviation Engineering</td>\n",
       "      <td>GE Aviation</td>\n",
       "      <td>7/23/07 0:00</td>\n",
       "      <td>WestChester OH US 2</td>\n",
       "      <td>West Chester</td>\n",
       "      <td>Ohio</td>\n",
       "      <td>United States</td>\n",
       "      <td>US</td>\n",
       "      <td>Production</td>\n",
       "    </tr>\n",
       "    <tr>\n",
       "      <th>3</th>\n",
       "      <td>3</td>\n",
       "      <td>TP</td>\n",
       "      <td>3/26/18</td>\n",
       "      <td>1.633243e+09</td>\n",
       "      <td>9/29/17</td>\n",
       "      <td>172</td>\n",
       "      <td>cleared</td>\n",
       "      <td>closed</td>\n",
       "      <td>Senior_Analyst_1</td>\n",
       "      <td>yes</td>\n",
       "      <td>...</td>\n",
       "      <td>AVI ENG-GE 9X Engineering</td>\n",
       "      <td>Aviation Engineering</td>\n",
       "      <td>GE Aviation</td>\n",
       "      <td>7/23/07 0:00</td>\n",
       "      <td>WestChester OH US 2</td>\n",
       "      <td>West Chester</td>\n",
       "      <td>Ohio</td>\n",
       "      <td>United States</td>\n",
       "      <td>US</td>\n",
       "      <td>Production</td>\n",
       "    </tr>\n",
       "    <tr>\n",
       "      <th>4</th>\n",
       "      <td>4</td>\n",
       "      <td>TP</td>\n",
       "      <td>3/26/18</td>\n",
       "      <td>1.633243e+09</td>\n",
       "      <td>9/29/17</td>\n",
       "      <td>172</td>\n",
       "      <td>cleared</td>\n",
       "      <td>closed</td>\n",
       "      <td>Senior_Analyst_1</td>\n",
       "      <td>yes</td>\n",
       "      <td>...</td>\n",
       "      <td>AVI ENG-GE 9X Engineering</td>\n",
       "      <td>Aviation Engineering</td>\n",
       "      <td>GE Aviation</td>\n",
       "      <td>7/23/07 0:00</td>\n",
       "      <td>WestChester OH US 2</td>\n",
       "      <td>West Chester</td>\n",
       "      <td>Ohio</td>\n",
       "      <td>United States</td>\n",
       "      <td>US</td>\n",
       "      <td>Production</td>\n",
       "    </tr>\n",
       "    <tr>\n",
       "      <th>5</th>\n",
       "      <td>5</td>\n",
       "      <td>TP</td>\n",
       "      <td>3/26/18</td>\n",
       "      <td>1.633243e+09</td>\n",
       "      <td>9/29/17</td>\n",
       "      <td>172</td>\n",
       "      <td>cleared</td>\n",
       "      <td>closed</td>\n",
       "      <td>Senior_Analyst_1</td>\n",
       "      <td>yes</td>\n",
       "      <td>...</td>\n",
       "      <td>AVI ENG-GE 9X Engineering</td>\n",
       "      <td>Aviation Engineering</td>\n",
       "      <td>GE Aviation</td>\n",
       "      <td>7/23/07 0:00</td>\n",
       "      <td>WestChester OH US 2</td>\n",
       "      <td>West Chester</td>\n",
       "      <td>Ohio</td>\n",
       "      <td>United States</td>\n",
       "      <td>US</td>\n",
       "      <td>Production</td>\n",
       "    </tr>\n",
       "    <tr>\n",
       "      <th>6</th>\n",
       "      <td>6</td>\n",
       "      <td>TP</td>\n",
       "      <td>3/26/18</td>\n",
       "      <td>1.134030e+09</td>\n",
       "      <td>9/29/17</td>\n",
       "      <td>873</td>\n",
       "      <td>cleared</td>\n",
       "      <td>closed</td>\n",
       "      <td>Senior_Analyst_1</td>\n",
       "      <td>yes</td>\n",
       "      <td>...</td>\n",
       "      <td>AVI ENG-Military Propulsion &amp; Power Engineering</td>\n",
       "      <td>Aviation Engineering</td>\n",
       "      <td>GE Aviation</td>\n",
       "      <td>7/16/07 0:00</td>\n",
       "      <td>Lynn (GET) MA US</td>\n",
       "      <td>Lynn</td>\n",
       "      <td>Massachusetts</td>\n",
       "      <td>United States</td>\n",
       "      <td>US</td>\n",
       "      <td>Production</td>\n",
       "    </tr>\n",
       "    <tr>\n",
       "      <th>7</th>\n",
       "      <td>7</td>\n",
       "      <td>TP</td>\n",
       "      <td>3/26/18</td>\n",
       "      <td>8.153652e+08</td>\n",
       "      <td>9/29/17</td>\n",
       "      <td>811</td>\n",
       "      <td>cleared</td>\n",
       "      <td>closed</td>\n",
       "      <td>Senior_Analyst_1</td>\n",
       "      <td>yes</td>\n",
       "      <td>...</td>\n",
       "      <td>AVI ENG-Advanced Military Engineering</td>\n",
       "      <td>Aviation Engineering</td>\n",
       "      <td>GE Aviation</td>\n",
       "      <td>1/10/06 0:00</td>\n",
       "      <td>Evendale OH US</td>\n",
       "      <td>Evendale</td>\n",
       "      <td>Ohio</td>\n",
       "      <td>United States</td>\n",
       "      <td>US</td>\n",
       "      <td>Production</td>\n",
       "    </tr>\n",
       "    <tr>\n",
       "      <th>8</th>\n",
       "      <td>8</td>\n",
       "      <td>TP</td>\n",
       "      <td>3/26/18</td>\n",
       "      <td>8.153652e+08</td>\n",
       "      <td>9/29/17</td>\n",
       "      <td>811</td>\n",
       "      <td>cleared</td>\n",
       "      <td>closed</td>\n",
       "      <td>Senior_Analyst_1</td>\n",
       "      <td>yes</td>\n",
       "      <td>...</td>\n",
       "      <td>AVI ENG-Advanced Military Engineering</td>\n",
       "      <td>Aviation Engineering</td>\n",
       "      <td>GE Aviation</td>\n",
       "      <td>1/10/06 0:00</td>\n",
       "      <td>Evendale OH US</td>\n",
       "      <td>Evendale</td>\n",
       "      <td>Ohio</td>\n",
       "      <td>United States</td>\n",
       "      <td>US</td>\n",
       "      <td>Production</td>\n",
       "    </tr>\n",
       "    <tr>\n",
       "      <th>9</th>\n",
       "      <td>9</td>\n",
       "      <td>TP</td>\n",
       "      <td>3/26/18</td>\n",
       "      <td>8.153652e+08</td>\n",
       "      <td>9/29/17</td>\n",
       "      <td>811</td>\n",
       "      <td>cleared</td>\n",
       "      <td>closed</td>\n",
       "      <td>Senior_Analyst_1</td>\n",
       "      <td>yes</td>\n",
       "      <td>...</td>\n",
       "      <td>AVI ENG-Advanced Military Engineering</td>\n",
       "      <td>Aviation Engineering</td>\n",
       "      <td>GE Aviation</td>\n",
       "      <td>1/10/06 0:00</td>\n",
       "      <td>Evendale OH US</td>\n",
       "      <td>Evendale</td>\n",
       "      <td>Ohio</td>\n",
       "      <td>United States</td>\n",
       "      <td>US</td>\n",
       "      <td>Production</td>\n",
       "    </tr>\n",
       "  </tbody>\n",
       "</table>\n",
       "<p>10 rows × 45 columns</p>\n",
       "</div>"
      ],
      "text/plain": [
       "   Unnamed: 0 TYPE_NAME ALERT_ESCALATION_DATE   ALERT_ID_FK INSERT_DATE  \\\n",
       "0           0        TP               3/26/18  3.195298e+08     9/29/17   \n",
       "1           1        TP               3/26/18  1.633243e+09     9/29/17   \n",
       "2           2        TP               3/26/18  1.633243e+09     9/29/17   \n",
       "3           3        TP               3/26/18  1.633243e+09     9/29/17   \n",
       "4           4        TP               3/26/18  1.633243e+09     9/29/17   \n",
       "5           5        TP               3/26/18  1.633243e+09     9/29/17   \n",
       "6           6        TP               3/26/18  1.134030e+09     9/29/17   \n",
       "7           7        TP               3/26/18  8.153652e+08     9/29/17   \n",
       "8           8        TP               3/26/18  8.153652e+08     9/29/17   \n",
       "9           9        TP               3/26/18  8.153652e+08     9/29/17   \n",
       "\n",
       "   SCORE   STATUS RESOLUTION        OWNER_NAME MALICIOUS  ...  \\\n",
       "0    180  cleared     closed  Senior_Analyst_1       yes  ...   \n",
       "1    172  cleared     closed  Senior_Analyst_1       yes  ...   \n",
       "2    172  cleared     closed  Senior_Analyst_1       yes  ...   \n",
       "3    172  cleared     closed  Senior_Analyst_1       yes  ...   \n",
       "4    172  cleared     closed  Senior_Analyst_1       yes  ...   \n",
       "5    172  cleared     closed  Senior_Analyst_1       yes  ...   \n",
       "6    873  cleared     closed  Senior_Analyst_1       yes  ...   \n",
       "7    811  cleared     closed  Senior_Analyst_1       yes  ...   \n",
       "8    811  cleared     closed  Senior_Analyst_1       yes  ...   \n",
       "9    811  cleared     closed  Senior_Analyst_1       yes  ...   \n",
       "\n",
       "                                     DIVISION_NAME       BUSINESS_SEGMENT  \\\n",
       "0           AVI SC-Chief Manufacturing Engineering  Aviation Supply Chain   \n",
       "1                        AVI ENG-GE 9X Engineering   Aviation Engineering   \n",
       "2                        AVI ENG-GE 9X Engineering   Aviation Engineering   \n",
       "3                        AVI ENG-GE 9X Engineering   Aviation Engineering   \n",
       "4                        AVI ENG-GE 9X Engineering   Aviation Engineering   \n",
       "5                        AVI ENG-GE 9X Engineering   Aviation Engineering   \n",
       "6  AVI ENG-Military Propulsion & Power Engineering   Aviation Engineering   \n",
       "7            AVI ENG-Advanced Military Engineering   Aviation Engineering   \n",
       "8            AVI ENG-Advanced Military Engineering   Aviation Engineering   \n",
       "9            AVI ENG-Advanced Military Engineering   Aviation Engineering   \n",
       "\n",
       "   INDUSTRY_FOCUS_NAME   GE_HIRE_DATE        LOCATION_NAME          CITY  \\\n",
       "0          GE Aviation  11/13/07 0:00       Evendale OH US      Evendale   \n",
       "1          GE Aviation   7/23/07 0:00  WestChester OH US 2  West Chester   \n",
       "2          GE Aviation   7/23/07 0:00  WestChester OH US 2  West Chester   \n",
       "3          GE Aviation   7/23/07 0:00  WestChester OH US 2  West Chester   \n",
       "4          GE Aviation   7/23/07 0:00  WestChester OH US 2  West Chester   \n",
       "5          GE Aviation   7/23/07 0:00  WestChester OH US 2  West Chester   \n",
       "6          GE Aviation   7/16/07 0:00     Lynn (GET) MA US          Lynn   \n",
       "7          GE Aviation   1/10/06 0:00       Evendale OH US      Evendale   \n",
       "8          GE Aviation   1/10/06 0:00       Evendale OH US      Evendale   \n",
       "9          GE Aviation   1/10/06 0:00       Evendale OH US      Evendale   \n",
       "\n",
       "      STATE_NAME   COUNTRY_NAME COUNTRY FUNCTION_GROUP  \n",
       "0           Ohio  United States      US     Production  \n",
       "1           Ohio  United States      US     Production  \n",
       "2           Ohio  United States      US     Production  \n",
       "3           Ohio  United States      US     Production  \n",
       "4           Ohio  United States      US     Production  \n",
       "5           Ohio  United States      US     Production  \n",
       "6  Massachusetts  United States      US     Production  \n",
       "7           Ohio  United States      US     Production  \n",
       "8           Ohio  United States      US     Production  \n",
       "9           Ohio  United States      US     Production  \n",
       "\n",
       "[10 rows x 45 columns]"
      ]
     },
     "execution_count": 2,
     "metadata": {},
     "output_type": "execute_result"
    }
   ],
   "source": [
    "GE= pd.read_csv('ALY6980_merged_data.csv')\n",
    "GE.head(10)"
   ]
  },
  {
   "cell_type": "code",
   "execution_count": 3,
   "metadata": {},
   "outputs": [
    {
     "name": "stdout",
     "output_type": "stream",
     "text": [
      "Number of samples: 186558\n"
     ]
    }
   ],
   "source": [
    "print('Number of samples:',len(GE))"
   ]
  },
  {
   "cell_type": "code",
   "execution_count": 4,
   "metadata": {
    "scrolled": true
   },
   "outputs": [
    {
     "name": "stdout",
     "output_type": "stream",
     "text": [
      "<class 'pandas.core.frame.DataFrame'>\n",
      "RangeIndex: 186558 entries, 0 to 186557\n",
      "Data columns (total 45 columns):\n",
      "Unnamed: 0                      186558 non-null int64\n",
      "TYPE_NAME                       186558 non-null object\n",
      "ALERT_ESCALATION_DATE           186558 non-null object\n",
      "ALERT_ID_FK                     178743 non-null float64\n",
      "INSERT_DATE                     186558 non-null object\n",
      "SCORE                           186558 non-null int64\n",
      "STATUS                          186558 non-null object\n",
      "RESOLUTION                      186558 non-null object\n",
      "OWNER_NAME                      186558 non-null object\n",
      "MALICIOUS                       186558 non-null object\n",
      "EMPLOYEE_ID                     186558 non-null int64\n",
      "RISK_FACTOR                     96377 non-null float64\n",
      "AVG_SCORE                       96377 non-null float64\n",
      "CLASSIFICATION                  186558 non-null object\n",
      "HRU                             186558 non-null object\n",
      "INDICATORS                      186558 non-null object\n",
      "INDICATOR_PAIRS                 186558 non-null object\n",
      "ALERT_CATEGORY                  186558 non-null object\n",
      "ALERT_TYPE                      186556 non-null object\n",
      "GROUPING                        186555 non-null object\n",
      "INDICATOR_HEAT_SCORE            143869 non-null float64\n",
      "SHARED_INDICATION_NAME          186558 non-null object\n",
      "SHARED_INDICATOR_APPLICATION    186555 non-null object\n",
      "SHARED_INDICATOR_ACTIVITY       186555 non-null object\n",
      "SHARED_INDICATOR_TYPE           186558 non-null object\n",
      "SHARED_INDICATOR_SUFFIX         186558 non-null object\n",
      "HEAT_VALUE                      143869 non-null float64\n",
      "Unnamed: 6                      6566 non-null object\n",
      "PERSON_TYPE                     186558 non-null object\n",
      "PERSON_STATUS                   186558 non-null object\n",
      "DEPARTMENT_NAME                 167037 non-null object\n",
      "JOB_FUNCTION                    186558 non-null object\n",
      "JOB_TITLE                       181062 non-null object\n",
      "CAREER_BAND                     180161 non-null object\n",
      "LEGAL_ENTITY_NAME               166164 non-null object\n",
      "DIVISION_NAME                   161140 non-null object\n",
      "BUSINESS_SEGMENT                161140 non-null object\n",
      "INDUSTRY_FOCUS_NAME             161140 non-null object\n",
      "GE_HIRE_DATE                    139797 non-null object\n",
      "LOCATION_NAME                   160284 non-null object\n",
      "CITY                            154262 non-null object\n",
      "STATE_NAME                      154979 non-null object\n",
      "COUNTRY_NAME                    154979 non-null object\n",
      "COUNTRY                         161140 non-null object\n",
      "FUNCTION_GROUP                  154979 non-null object\n",
      "dtypes: float64(5), int64(3), object(37)\n",
      "memory usage: 64.0+ MB\n"
     ]
    }
   ],
   "source": [
    "GE.info()  #quick overview of the data(number of columns, variable type and non-null values)"
   ]
  },
  {
   "cell_type": "code",
   "execution_count": 5,
   "metadata": {
    "scrolled": false
   },
   "outputs": [
    {
     "data": {
      "text/plain": [
       "MALICIOUS\n",
       "no          71921\n",
       "unknown         2\n",
       "yes        114635\n",
       "dtype: int64"
      ]
     },
     "execution_count": 5,
     "metadata": {},
     "output_type": "execute_result"
    }
   ],
   "source": [
    " # count the number of rows for malicious column\n",
    "GE.groupby('MALICIOUS').size()"
   ]
  },
  {
   "cell_type": "code",
   "execution_count": 6,
   "metadata": {},
   "outputs": [
    {
     "name": "stdout",
     "output_type": "stream",
     "text": [
      "186556\n"
     ]
    }
   ],
   "source": [
    "GE = GE.drop(GE[\"MALICIOUS\"][GE[\"MALICIOUS\"] == \"unknown\"].index)\n",
    "print(len(GE))"
   ]
  },
  {
   "cell_type": "markdown",
   "metadata": {},
   "source": [
    "#### Now let's define an output variable for our binary classification. Here we will be predicting if a heat alert is malicious or non malicious."
   ]
  },
  {
   "cell_type": "code",
   "execution_count": 7,
   "metadata": {
    "scrolled": false
   },
   "outputs": [],
   "source": [
    "# define output label\n",
    "GE.loc[GE['MALICIOUS']=='no','MALICIOUS']=0\n",
    "GE.loc[GE['MALICIOUS']=='yes','MALICIOUS']=1\n",
    "\n",
    "GE['OUTPUT_LABEL'] = (GE['MALICIOUS']).astype('int') \n"
   ]
  },
  {
   "cell_type": "code",
   "execution_count": 8,
   "metadata": {
    "scrolled": true
   },
   "outputs": [
    {
     "data": {
      "text/plain": [
       "0         1\n",
       "1         1\n",
       "2         1\n",
       "3         1\n",
       "4         1\n",
       "5         1\n",
       "6         1\n",
       "7         1\n",
       "8         1\n",
       "9         1\n",
       "10        1\n",
       "11        1\n",
       "12        1\n",
       "13        1\n",
       "14        1\n",
       "15        0\n",
       "16        0\n",
       "17        1\n",
       "18        1\n",
       "19        1\n",
       "20        1\n",
       "21        1\n",
       "22        1\n",
       "23        1\n",
       "24        0\n",
       "25        0\n",
       "26        0\n",
       "27        0\n",
       "28        1\n",
       "29        1\n",
       "         ..\n",
       "186528    1\n",
       "186529    1\n",
       "186530    1\n",
       "186531    1\n",
       "186532    1\n",
       "186533    1\n",
       "186534    1\n",
       "186535    1\n",
       "186536    1\n",
       "186537    1\n",
       "186538    1\n",
       "186539    1\n",
       "186540    1\n",
       "186541    1\n",
       "186542    1\n",
       "186543    1\n",
       "186544    1\n",
       "186545    1\n",
       "186546    1\n",
       "186547    1\n",
       "186548    1\n",
       "186549    1\n",
       "186550    1\n",
       "186551    1\n",
       "186552    1\n",
       "186553    1\n",
       "186554    1\n",
       "186555    1\n",
       "186556    1\n",
       "186557    1\n",
       "Name: MALICIOUS, Length: 186556, dtype: int64"
      ]
     },
     "execution_count": 8,
     "metadata": {},
     "output_type": "execute_result"
    }
   ],
   "source": [
    "GE['MALICIOUS']"
   ]
  },
  {
   "cell_type": "code",
   "execution_count": 9,
   "metadata": {},
   "outputs": [],
   "source": [
    "# let's define a function to calculate the prevalence of events that malicious alerts happened\n",
    "#while defining the function, delete two unknown records that we are not interested in. \n",
    "def calc_prevalence(y_actual):\n",
    "    return ((sum(y_actual)-4)/len(y_actual))"
   ]
  },
  {
   "cell_type": "code",
   "execution_count": 10,
   "metadata": {},
   "outputs": [
    {
     "name": "stdout",
     "output_type": "stream",
     "text": [
      "Prevalence:0.614\n"
     ]
    }
   ],
   "source": [
    "print('Prevalence:%.3f'%calc_prevalence(GE['MALICIOUS'].values))"
   ]
  },
  {
   "cell_type": "markdown",
   "metadata": {},
   "source": [
    "#### About 61.4% of the overall records are malicious records.  "
   ]
  },
  {
   "cell_type": "code",
   "execution_count": 11,
   "metadata": {},
   "outputs": [
    {
     "name": "stdout",
     "output_type": "stream",
     "text": [
      "Number of columns: 46\n"
     ]
    }
   ],
   "source": [
    "print('Number of columns:', len(GE.columns))"
   ]
  },
  {
   "cell_type": "code",
   "execution_count": 12,
   "metadata": {},
   "outputs": [
    {
     "data": {
      "text/html": [
       "<div>\n",
       "<style scoped>\n",
       "    .dataframe tbody tr th:only-of-type {\n",
       "        vertical-align: middle;\n",
       "    }\n",
       "\n",
       "    .dataframe tbody tr th {\n",
       "        vertical-align: top;\n",
       "    }\n",
       "\n",
       "    .dataframe thead th {\n",
       "        text-align: right;\n",
       "    }\n",
       "</style>\n",
       "<table border=\"1\" class=\"dataframe\">\n",
       "  <thead>\n",
       "    <tr style=\"text-align: right;\">\n",
       "      <th></th>\n",
       "      <th>Unnamed: 0</th>\n",
       "      <th>TYPE_NAME</th>\n",
       "      <th>ALERT_ESCALATION_DATE</th>\n",
       "      <th>ALERT_ID_FK</th>\n",
       "      <th>INSERT_DATE</th>\n",
       "      <th>SCORE</th>\n",
       "      <th>STATUS</th>\n",
       "      <th>RESOLUTION</th>\n",
       "      <th>OWNER_NAME</th>\n",
       "      <th>MALICIOUS</th>\n",
       "    </tr>\n",
       "  </thead>\n",
       "  <tbody>\n",
       "    <tr>\n",
       "      <th>0</th>\n",
       "      <td>0</td>\n",
       "      <td>TP</td>\n",
       "      <td>3/26/18</td>\n",
       "      <td>3.195298e+08</td>\n",
       "      <td>9/29/17</td>\n",
       "      <td>180</td>\n",
       "      <td>cleared</td>\n",
       "      <td>closed</td>\n",
       "      <td>Senior_Analyst_1</td>\n",
       "      <td>1</td>\n",
       "    </tr>\n",
       "    <tr>\n",
       "      <th>1</th>\n",
       "      <td>1</td>\n",
       "      <td>TP</td>\n",
       "      <td>3/26/18</td>\n",
       "      <td>1.633243e+09</td>\n",
       "      <td>9/29/17</td>\n",
       "      <td>172</td>\n",
       "      <td>cleared</td>\n",
       "      <td>closed</td>\n",
       "      <td>Senior_Analyst_1</td>\n",
       "      <td>1</td>\n",
       "    </tr>\n",
       "    <tr>\n",
       "      <th>2</th>\n",
       "      <td>2</td>\n",
       "      <td>TP</td>\n",
       "      <td>3/26/18</td>\n",
       "      <td>1.633243e+09</td>\n",
       "      <td>9/29/17</td>\n",
       "      <td>172</td>\n",
       "      <td>cleared</td>\n",
       "      <td>closed</td>\n",
       "      <td>Senior_Analyst_1</td>\n",
       "      <td>1</td>\n",
       "    </tr>\n",
       "    <tr>\n",
       "      <th>3</th>\n",
       "      <td>3</td>\n",
       "      <td>TP</td>\n",
       "      <td>3/26/18</td>\n",
       "      <td>1.633243e+09</td>\n",
       "      <td>9/29/17</td>\n",
       "      <td>172</td>\n",
       "      <td>cleared</td>\n",
       "      <td>closed</td>\n",
       "      <td>Senior_Analyst_1</td>\n",
       "      <td>1</td>\n",
       "    </tr>\n",
       "    <tr>\n",
       "      <th>4</th>\n",
       "      <td>4</td>\n",
       "      <td>TP</td>\n",
       "      <td>3/26/18</td>\n",
       "      <td>1.633243e+09</td>\n",
       "      <td>9/29/17</td>\n",
       "      <td>172</td>\n",
       "      <td>cleared</td>\n",
       "      <td>closed</td>\n",
       "      <td>Senior_Analyst_1</td>\n",
       "      <td>1</td>\n",
       "    </tr>\n",
       "  </tbody>\n",
       "</table>\n",
       "</div>"
      ],
      "text/plain": [
       "   Unnamed: 0 TYPE_NAME ALERT_ESCALATION_DATE   ALERT_ID_FK INSERT_DATE  \\\n",
       "0           0        TP               3/26/18  3.195298e+08     9/29/17   \n",
       "1           1        TP               3/26/18  1.633243e+09     9/29/17   \n",
       "2           2        TP               3/26/18  1.633243e+09     9/29/17   \n",
       "3           3        TP               3/26/18  1.633243e+09     9/29/17   \n",
       "4           4        TP               3/26/18  1.633243e+09     9/29/17   \n",
       "\n",
       "   SCORE   STATUS RESOLUTION        OWNER_NAME  MALICIOUS  \n",
       "0    180  cleared     closed  Senior_Analyst_1          1  \n",
       "1    172  cleared     closed  Senior_Analyst_1          1  \n",
       "2    172  cleared     closed  Senior_Analyst_1          1  \n",
       "3    172  cleared     closed  Senior_Analyst_1          1  \n",
       "4    172  cleared     closed  Senior_Analyst_1          1  "
      ]
     },
     "execution_count": 12,
     "metadata": {},
     "output_type": "execute_result"
    }
   ],
   "source": [
    "GE[list(GE.columns)[0:10]].head()"
   ]
  },
  {
   "cell_type": "code",
   "execution_count": 13,
   "metadata": {},
   "outputs": [
    {
     "data": {
      "text/html": [
       "<div>\n",
       "<style scoped>\n",
       "    .dataframe tbody tr th:only-of-type {\n",
       "        vertical-align: middle;\n",
       "    }\n",
       "\n",
       "    .dataframe tbody tr th {\n",
       "        vertical-align: top;\n",
       "    }\n",
       "\n",
       "    .dataframe thead th {\n",
       "        text-align: right;\n",
       "    }\n",
       "</style>\n",
       "<table border=\"1\" class=\"dataframe\">\n",
       "  <thead>\n",
       "    <tr style=\"text-align: right;\">\n",
       "      <th></th>\n",
       "      <th>EMPLOYEE_ID</th>\n",
       "      <th>RISK_FACTOR</th>\n",
       "      <th>AVG_SCORE</th>\n",
       "      <th>CLASSIFICATION</th>\n",
       "      <th>HRU</th>\n",
       "      <th>INDICATORS</th>\n",
       "      <th>INDICATOR_PAIRS</th>\n",
       "      <th>ALERT_CATEGORY</th>\n",
       "      <th>ALERT_TYPE</th>\n",
       "      <th>GROUPING</th>\n",
       "    </tr>\n",
       "  </thead>\n",
       "  <tbody>\n",
       "    <tr>\n",
       "      <th>0</th>\n",
       "      <td>2313834724</td>\n",
       "      <td>1.80</td>\n",
       "      <td>100.0</td>\n",
       "      <td>TP/DE</td>\n",
       "      <td>None</td>\n",
       "      <td>App_1_Heat_Box_PRE_2016_Q3</td>\n",
       "      <td>App_1_Heat_Box_PRE_2016_Q3</td>\n",
       "      <td>Heat</td>\n",
       "      <td>Daily_Heat</td>\n",
       "      <td>App_1</td>\n",
       "    </tr>\n",
       "    <tr>\n",
       "      <th>1</th>\n",
       "      <td>13152813815</td>\n",
       "      <td>1.72</td>\n",
       "      <td>100.0</td>\n",
       "      <td>TP/DE</td>\n",
       "      <td>HRU11</td>\n",
       "      <td>App_1_Heat_Box_PRE_2016_Q3</td>\n",
       "      <td>App_1_Heat_Box_PRE_2016_Q3/App_11_Threshold_Ac...</td>\n",
       "      <td>Heat</td>\n",
       "      <td>Daily_Heat</td>\n",
       "      <td>App_1</td>\n",
       "    </tr>\n",
       "    <tr>\n",
       "      <th>2</th>\n",
       "      <td>13152813815</td>\n",
       "      <td>1.72</td>\n",
       "      <td>100.0</td>\n",
       "      <td>TP/DE</td>\n",
       "      <td>HRU11</td>\n",
       "      <td>App_11_Threshold_Access_30_Day</td>\n",
       "      <td>App_1_Heat_Box_PRE_2016_Q3/App_11_Threshold_Ac...</td>\n",
       "      <td>Heat</td>\n",
       "      <td>Daily_Heat</td>\n",
       "      <td>App_11</td>\n",
       "    </tr>\n",
       "    <tr>\n",
       "      <th>3</th>\n",
       "      <td>13152813815</td>\n",
       "      <td>1.72</td>\n",
       "      <td>100.0</td>\n",
       "      <td>TP/DE</td>\n",
       "      <td>HRU11</td>\n",
       "      <td>App_11_Threshold_Access_30_Day</td>\n",
       "      <td>App_1_Heat_Box_PRE_2016_Q3/App_11_Threshold_Ac...</td>\n",
       "      <td>Heat</td>\n",
       "      <td>Daily_Heat</td>\n",
       "      <td>App_11</td>\n",
       "    </tr>\n",
       "    <tr>\n",
       "      <th>4</th>\n",
       "      <td>13152813815</td>\n",
       "      <td>1.72</td>\n",
       "      <td>100.0</td>\n",
       "      <td>TP/DE</td>\n",
       "      <td>HRU11</td>\n",
       "      <td>App_11_Threshold_Access_90_Day</td>\n",
       "      <td>App_1_Heat_Box_PRE_2016_Q3/App_11_Threshold_Ac...</td>\n",
       "      <td>Heat</td>\n",
       "      <td>Daily_Heat</td>\n",
       "      <td>App_11</td>\n",
       "    </tr>\n",
       "  </tbody>\n",
       "</table>\n",
       "</div>"
      ],
      "text/plain": [
       "   EMPLOYEE_ID  RISK_FACTOR  AVG_SCORE CLASSIFICATION    HRU  \\\n",
       "0   2313834724         1.80      100.0          TP/DE   None   \n",
       "1  13152813815         1.72      100.0          TP/DE  HRU11   \n",
       "2  13152813815         1.72      100.0          TP/DE  HRU11   \n",
       "3  13152813815         1.72      100.0          TP/DE  HRU11   \n",
       "4  13152813815         1.72      100.0          TP/DE  HRU11   \n",
       "\n",
       "                       INDICATORS  \\\n",
       "0      App_1_Heat_Box_PRE_2016_Q3   \n",
       "1      App_1_Heat_Box_PRE_2016_Q3   \n",
       "2  App_11_Threshold_Access_30_Day   \n",
       "3  App_11_Threshold_Access_30_Day   \n",
       "4  App_11_Threshold_Access_90_Day   \n",
       "\n",
       "                                     INDICATOR_PAIRS ALERT_CATEGORY  \\\n",
       "0                         App_1_Heat_Box_PRE_2016_Q3           Heat   \n",
       "1  App_1_Heat_Box_PRE_2016_Q3/App_11_Threshold_Ac...           Heat   \n",
       "2  App_1_Heat_Box_PRE_2016_Q3/App_11_Threshold_Ac...           Heat   \n",
       "3  App_1_Heat_Box_PRE_2016_Q3/App_11_Threshold_Ac...           Heat   \n",
       "4  App_1_Heat_Box_PRE_2016_Q3/App_11_Threshold_Ac...           Heat   \n",
       "\n",
       "   ALERT_TYPE GROUPING  \n",
       "0  Daily_Heat    App_1  \n",
       "1  Daily_Heat    App_1  \n",
       "2  Daily_Heat   App_11  \n",
       "3  Daily_Heat   App_11  \n",
       "4  Daily_Heat   App_11  "
      ]
     },
     "execution_count": 13,
     "metadata": {},
     "output_type": "execute_result"
    }
   ],
   "source": [
    "GE[list(GE.columns)[10:20]].head()"
   ]
  },
  {
   "cell_type": "code",
   "execution_count": 14,
   "metadata": {},
   "outputs": [
    {
     "data": {
      "text/html": [
       "<div>\n",
       "<style scoped>\n",
       "    .dataframe tbody tr th:only-of-type {\n",
       "        vertical-align: middle;\n",
       "    }\n",
       "\n",
       "    .dataframe tbody tr th {\n",
       "        vertical-align: top;\n",
       "    }\n",
       "\n",
       "    .dataframe thead th {\n",
       "        text-align: right;\n",
       "    }\n",
       "</style>\n",
       "<table border=\"1\" class=\"dataframe\">\n",
       "  <thead>\n",
       "    <tr style=\"text-align: right;\">\n",
       "      <th></th>\n",
       "      <th>INDICATOR_HEAT_SCORE</th>\n",
       "      <th>SHARED_INDICATION_NAME</th>\n",
       "      <th>SHARED_INDICATOR_APPLICATION</th>\n",
       "      <th>SHARED_INDICATOR_ACTIVITY</th>\n",
       "      <th>SHARED_INDICATOR_TYPE</th>\n",
       "      <th>SHARED_INDICATOR_SUFFIX</th>\n",
       "      <th>HEAT_VALUE</th>\n",
       "      <th>Unnamed: 6</th>\n",
       "      <th>PERSON_TYPE</th>\n",
       "      <th>PERSON_STATUS</th>\n",
       "    </tr>\n",
       "  </thead>\n",
       "  <tbody>\n",
       "    <tr>\n",
       "      <th>0</th>\n",
       "      <td>0.0</td>\n",
       "      <td>App_1_Heat_Box_PRE_2016_Q3</td>\n",
       "      <td>App_1</td>\n",
       "      <td>Box</td>\n",
       "      <td>Heat</td>\n",
       "      <td>PRE_2016_Q3</td>\n",
       "      <td>0.0</td>\n",
       "      <td>NaN</td>\n",
       "      <td>EMPLOYEE</td>\n",
       "      <td>I</td>\n",
       "    </tr>\n",
       "    <tr>\n",
       "      <th>1</th>\n",
       "      <td>0.0</td>\n",
       "      <td>App_1_Heat_Box_PRE_2016_Q3</td>\n",
       "      <td>App_1</td>\n",
       "      <td>Box</td>\n",
       "      <td>Heat</td>\n",
       "      <td>PRE_2016_Q3</td>\n",
       "      <td>0.0</td>\n",
       "      <td>NaN</td>\n",
       "      <td>EMPLOYEE</td>\n",
       "      <td>A</td>\n",
       "    </tr>\n",
       "    <tr>\n",
       "      <th>2</th>\n",
       "      <td>4.0</td>\n",
       "      <td>App_11_Threshold_Access_30_Day</td>\n",
       "      <td>App_11</td>\n",
       "      <td>Access</td>\n",
       "      <td>Threshold</td>\n",
       "      <td>30_Day</td>\n",
       "      <td>4.0</td>\n",
       "      <td>NaN</td>\n",
       "      <td>EMPLOYEE</td>\n",
       "      <td>A</td>\n",
       "    </tr>\n",
       "    <tr>\n",
       "      <th>3</th>\n",
       "      <td>4.0</td>\n",
       "      <td>App_11_Threshold_Access_30_Day</td>\n",
       "      <td>App_11</td>\n",
       "      <td>Access</td>\n",
       "      <td>Threshold</td>\n",
       "      <td>30_Day</td>\n",
       "      <td>4.0</td>\n",
       "      <td>NaN</td>\n",
       "      <td>EMPLOYEE</td>\n",
       "      <td>A</td>\n",
       "    </tr>\n",
       "    <tr>\n",
       "      <th>4</th>\n",
       "      <td>3.0</td>\n",
       "      <td>App_11_Threshold_Access_90_Day</td>\n",
       "      <td>App_11</td>\n",
       "      <td>Access</td>\n",
       "      <td>Threshold</td>\n",
       "      <td>90_Day</td>\n",
       "      <td>3.0</td>\n",
       "      <td>NaN</td>\n",
       "      <td>EMPLOYEE</td>\n",
       "      <td>A</td>\n",
       "    </tr>\n",
       "  </tbody>\n",
       "</table>\n",
       "</div>"
      ],
      "text/plain": [
       "   INDICATOR_HEAT_SCORE          SHARED_INDICATION_NAME  \\\n",
       "0                   0.0      App_1_Heat_Box_PRE_2016_Q3   \n",
       "1                   0.0      App_1_Heat_Box_PRE_2016_Q3   \n",
       "2                   4.0  App_11_Threshold_Access_30_Day   \n",
       "3                   4.0  App_11_Threshold_Access_30_Day   \n",
       "4                   3.0  App_11_Threshold_Access_90_Day   \n",
       "\n",
       "  SHARED_INDICATOR_APPLICATION SHARED_INDICATOR_ACTIVITY  \\\n",
       "0                        App_1                       Box   \n",
       "1                        App_1                       Box   \n",
       "2                       App_11                    Access   \n",
       "3                       App_11                    Access   \n",
       "4                       App_11                    Access   \n",
       "\n",
       "  SHARED_INDICATOR_TYPE SHARED_INDICATOR_SUFFIX  HEAT_VALUE Unnamed: 6  \\\n",
       "0                  Heat             PRE_2016_Q3         0.0        NaN   \n",
       "1                  Heat             PRE_2016_Q3         0.0        NaN   \n",
       "2             Threshold                  30_Day         4.0        NaN   \n",
       "3             Threshold                  30_Day         4.0        NaN   \n",
       "4             Threshold                  90_Day         3.0        NaN   \n",
       "\n",
       "  PERSON_TYPE PERSON_STATUS  \n",
       "0    EMPLOYEE             I  \n",
       "1    EMPLOYEE             A  \n",
       "2    EMPLOYEE             A  \n",
       "3    EMPLOYEE             A  \n",
       "4    EMPLOYEE             A  "
      ]
     },
     "execution_count": 14,
     "metadata": {},
     "output_type": "execute_result"
    }
   ],
   "source": [
    "GE[list(GE.columns)[20:30]].head()"
   ]
  },
  {
   "cell_type": "code",
   "execution_count": 15,
   "metadata": {},
   "outputs": [
    {
     "data": {
      "text/html": [
       "<div>\n",
       "<style scoped>\n",
       "    .dataframe tbody tr th:only-of-type {\n",
       "        vertical-align: middle;\n",
       "    }\n",
       "\n",
       "    .dataframe tbody tr th {\n",
       "        vertical-align: top;\n",
       "    }\n",
       "\n",
       "    .dataframe thead th {\n",
       "        text-align: right;\n",
       "    }\n",
       "</style>\n",
       "<table border=\"1\" class=\"dataframe\">\n",
       "  <thead>\n",
       "    <tr style=\"text-align: right;\">\n",
       "      <th></th>\n",
       "      <th>DEPARTMENT_NAME</th>\n",
       "      <th>JOB_FUNCTION</th>\n",
       "      <th>JOB_TITLE</th>\n",
       "      <th>CAREER_BAND</th>\n",
       "      <th>LEGAL_ENTITY_NAME</th>\n",
       "      <th>DIVISION_NAME</th>\n",
       "      <th>BUSINESS_SEGMENT</th>\n",
       "      <th>INDUSTRY_FOCUS_NAME</th>\n",
       "      <th>GE_HIRE_DATE</th>\n",
       "      <th>LOCATION_NAME</th>\n",
       "    </tr>\n",
       "  </thead>\n",
       "  <tbody>\n",
       "    <tr>\n",
       "      <th>0</th>\n",
       "      <td>AVI SC-Chief Manufacturing Engineering</td>\n",
       "      <td>Engineering/Technology</td>\n",
       "      <td>Principal Engineer - Chief Engineering</td>\n",
       "      <td>SPB</td>\n",
       "      <td>GENERAL ELECTRIC COMPANY</td>\n",
       "      <td>AVI SC-Chief Manufacturing Engineering</td>\n",
       "      <td>Aviation Supply Chain</td>\n",
       "      <td>GE Aviation</td>\n",
       "      <td>11/13/07 0:00</td>\n",
       "      <td>Evendale OH US</td>\n",
       "    </tr>\n",
       "    <tr>\n",
       "      <th>1</th>\n",
       "      <td>AVI ENG-GE9XE-Controls &amp; Configurations</td>\n",
       "      <td>Engineering/Technology</td>\n",
       "      <td>Advanced Lead Engineer - Electronic Hardware</td>\n",
       "      <td>LPB</td>\n",
       "      <td>GENERAL ELECTRIC COMPANY</td>\n",
       "      <td>AVI ENG-GE 9X Engineering</td>\n",
       "      <td>Aviation Engineering</td>\n",
       "      <td>GE Aviation</td>\n",
       "      <td>7/23/07 0:00</td>\n",
       "      <td>WestChester OH US 2</td>\n",
       "    </tr>\n",
       "    <tr>\n",
       "      <th>2</th>\n",
       "      <td>AVI ENG-GE9XE-Controls &amp; Configurations</td>\n",
       "      <td>Engineering/Technology</td>\n",
       "      <td>Advanced Lead Engineer - Electronic Hardware</td>\n",
       "      <td>LPB</td>\n",
       "      <td>GENERAL ELECTRIC COMPANY</td>\n",
       "      <td>AVI ENG-GE 9X Engineering</td>\n",
       "      <td>Aviation Engineering</td>\n",
       "      <td>GE Aviation</td>\n",
       "      <td>7/23/07 0:00</td>\n",
       "      <td>WestChester OH US 2</td>\n",
       "    </tr>\n",
       "    <tr>\n",
       "      <th>3</th>\n",
       "      <td>AVI ENG-GE9XE-Controls &amp; Configurations</td>\n",
       "      <td>Engineering/Technology</td>\n",
       "      <td>Advanced Lead Engineer - Electronic Hardware</td>\n",
       "      <td>LPB</td>\n",
       "      <td>GENERAL ELECTRIC COMPANY</td>\n",
       "      <td>AVI ENG-GE 9X Engineering</td>\n",
       "      <td>Aviation Engineering</td>\n",
       "      <td>GE Aviation</td>\n",
       "      <td>7/23/07 0:00</td>\n",
       "      <td>WestChester OH US 2</td>\n",
       "    </tr>\n",
       "    <tr>\n",
       "      <th>4</th>\n",
       "      <td>AVI ENG-GE9XE-Controls &amp; Configurations</td>\n",
       "      <td>Engineering/Technology</td>\n",
       "      <td>Advanced Lead Engineer - Electronic Hardware</td>\n",
       "      <td>LPB</td>\n",
       "      <td>GENERAL ELECTRIC COMPANY</td>\n",
       "      <td>AVI ENG-GE 9X Engineering</td>\n",
       "      <td>Aviation Engineering</td>\n",
       "      <td>GE Aviation</td>\n",
       "      <td>7/23/07 0:00</td>\n",
       "      <td>WestChester OH US 2</td>\n",
       "    </tr>\n",
       "  </tbody>\n",
       "</table>\n",
       "</div>"
      ],
      "text/plain": [
       "                           DEPARTMENT_NAME            JOB_FUNCTION  \\\n",
       "0   AVI SC-Chief Manufacturing Engineering  Engineering/Technology   \n",
       "1  AVI ENG-GE9XE-Controls & Configurations  Engineering/Technology   \n",
       "2  AVI ENG-GE9XE-Controls & Configurations  Engineering/Technology   \n",
       "3  AVI ENG-GE9XE-Controls & Configurations  Engineering/Technology   \n",
       "4  AVI ENG-GE9XE-Controls & Configurations  Engineering/Technology   \n",
       "\n",
       "                                      JOB_TITLE CAREER_BAND  \\\n",
       "0        Principal Engineer - Chief Engineering         SPB   \n",
       "1  Advanced Lead Engineer - Electronic Hardware         LPB   \n",
       "2  Advanced Lead Engineer - Electronic Hardware         LPB   \n",
       "3  Advanced Lead Engineer - Electronic Hardware         LPB   \n",
       "4  Advanced Lead Engineer - Electronic Hardware         LPB   \n",
       "\n",
       "          LEGAL_ENTITY_NAME                           DIVISION_NAME  \\\n",
       "0  GENERAL ELECTRIC COMPANY  AVI SC-Chief Manufacturing Engineering   \n",
       "1  GENERAL ELECTRIC COMPANY               AVI ENG-GE 9X Engineering   \n",
       "2  GENERAL ELECTRIC COMPANY               AVI ENG-GE 9X Engineering   \n",
       "3  GENERAL ELECTRIC COMPANY               AVI ENG-GE 9X Engineering   \n",
       "4  GENERAL ELECTRIC COMPANY               AVI ENG-GE 9X Engineering   \n",
       "\n",
       "        BUSINESS_SEGMENT INDUSTRY_FOCUS_NAME   GE_HIRE_DATE  \\\n",
       "0  Aviation Supply Chain         GE Aviation  11/13/07 0:00   \n",
       "1   Aviation Engineering         GE Aviation   7/23/07 0:00   \n",
       "2   Aviation Engineering         GE Aviation   7/23/07 0:00   \n",
       "3   Aviation Engineering         GE Aviation   7/23/07 0:00   \n",
       "4   Aviation Engineering         GE Aviation   7/23/07 0:00   \n",
       "\n",
       "         LOCATION_NAME  \n",
       "0       Evendale OH US  \n",
       "1  WestChester OH US 2  \n",
       "2  WestChester OH US 2  \n",
       "3  WestChester OH US 2  \n",
       "4  WestChester OH US 2  "
      ]
     },
     "execution_count": 15,
     "metadata": {},
     "output_type": "execute_result"
    }
   ],
   "source": [
    "GE[list(GE.columns)[30:40]].head()"
   ]
  },
  {
   "cell_type": "code",
   "execution_count": 16,
   "metadata": {},
   "outputs": [
    {
     "data": {
      "text/html": [
       "<div>\n",
       "<style scoped>\n",
       "    .dataframe tbody tr th:only-of-type {\n",
       "        vertical-align: middle;\n",
       "    }\n",
       "\n",
       "    .dataframe tbody tr th {\n",
       "        vertical-align: top;\n",
       "    }\n",
       "\n",
       "    .dataframe thead th {\n",
       "        text-align: right;\n",
       "    }\n",
       "</style>\n",
       "<table border=\"1\" class=\"dataframe\">\n",
       "  <thead>\n",
       "    <tr style=\"text-align: right;\">\n",
       "      <th></th>\n",
       "      <th>CITY</th>\n",
       "      <th>STATE_NAME</th>\n",
       "      <th>COUNTRY_NAME</th>\n",
       "      <th>COUNTRY</th>\n",
       "      <th>FUNCTION_GROUP</th>\n",
       "    </tr>\n",
       "  </thead>\n",
       "  <tbody>\n",
       "    <tr>\n",
       "      <th>0</th>\n",
       "      <td>Evendale</td>\n",
       "      <td>Ohio</td>\n",
       "      <td>United States</td>\n",
       "      <td>US</td>\n",
       "      <td>Production</td>\n",
       "    </tr>\n",
       "    <tr>\n",
       "      <th>1</th>\n",
       "      <td>West Chester</td>\n",
       "      <td>Ohio</td>\n",
       "      <td>United States</td>\n",
       "      <td>US</td>\n",
       "      <td>Production</td>\n",
       "    </tr>\n",
       "    <tr>\n",
       "      <th>2</th>\n",
       "      <td>West Chester</td>\n",
       "      <td>Ohio</td>\n",
       "      <td>United States</td>\n",
       "      <td>US</td>\n",
       "      <td>Production</td>\n",
       "    </tr>\n",
       "    <tr>\n",
       "      <th>3</th>\n",
       "      <td>West Chester</td>\n",
       "      <td>Ohio</td>\n",
       "      <td>United States</td>\n",
       "      <td>US</td>\n",
       "      <td>Production</td>\n",
       "    </tr>\n",
       "    <tr>\n",
       "      <th>4</th>\n",
       "      <td>West Chester</td>\n",
       "      <td>Ohio</td>\n",
       "      <td>United States</td>\n",
       "      <td>US</td>\n",
       "      <td>Production</td>\n",
       "    </tr>\n",
       "  </tbody>\n",
       "</table>\n",
       "</div>"
      ],
      "text/plain": [
       "           CITY STATE_NAME   COUNTRY_NAME COUNTRY FUNCTION_GROUP\n",
       "0      Evendale       Ohio  United States      US     Production\n",
       "1  West Chester       Ohio  United States      US     Production\n",
       "2  West Chester       Ohio  United States      US     Production\n",
       "3  West Chester       Ohio  United States      US     Production\n",
       "4  West Chester       Ohio  United States      US     Production"
      ]
     },
     "execution_count": 16,
     "metadata": {},
     "output_type": "execute_result"
    }
   ],
   "source": [
    "GE[list(GE.columns)[40:45]].head()"
   ]
  },
  {
   "cell_type": "code",
   "execution_count": 17,
   "metadata": {},
   "outputs": [
    {
     "name": "stdout",
     "output_type": "stream",
     "text": [
      "Unnamed: 0:186556unique values\n",
      "TYPE_NAME\n",
      "['TP' 'FP' 'TP/LOW' 'TP/HIGH']\n",
      "ALERT_ESCALATION_DATE:289unique values\n",
      "ALERT_ID_FK:115699unique values\n",
      "INSERT_DATE:577unique values\n",
      "SCORE:6365unique values\n",
      "STATUS\n",
      "['cleared' 'confirmed']\n",
      "RESOLUTION\n",
      "['closed' 'in_progress']\n",
      "OWNER_NAME\n",
      "['Senior_Analyst_1' 'Analyst_4' 'Analyst_5' 'Senior_Analyst_2' 'Analyst_1'\n",
      " 'Analyst_6' 'Analyst_2' 'Analyst_3' 'Analyst_7' 'Analyst_8']\n",
      "MALICIOUS\n",
      "[1 0]\n",
      "EMPLOYEE_ID:2820unique values\n",
      "RISK_FACTOR:16836unique values\n",
      "AVG_SCORE:2287unique values\n",
      "CLASSIFICATION\n",
      "['TP/DE' 'FP' 'TP/LOW' 'TP/HIGH']\n",
      "HRU\n",
      "['None' 'HRU11' 'HRU13' 'HRU12' 'HRU19' 'HRU18' 'HRU3' 'HRU2' 'HRU' 'HRU5'\n",
      " 'HRU7' 'HRU6' 'HRU8']\n",
      "INDICATORS:107unique values\n",
      "INDICATOR_PAIRS:1385unique values\n",
      "ALERT_CATEGORY\n",
      "['Heat' 'Atomic' 'Other']\n",
      "ALERT_TYPE\n",
      "['Daily_Heat' 'Monthly_Heat' 'Atomic' 'Weekly_Heat' nan]\n",
      "GROUPING:29unique values\n",
      "INDICATOR_HEAT_SCORE\n",
      "[ 0.  4.  3. 40. 50. nan 20.  2.  5.  1. 30. 10.]\n",
      "SHARED_INDICATION_NAME:107unique values\n",
      "SHARED_INDICATOR_APPLICATION:29unique values\n",
      "SHARED_INDICATOR_ACTIVITY\n",
      "['Box' 'Access' 'BA' 'CD_Burn' 'Email' 'Print' 'USB' 'NTU' 'Egress'\n",
      " 'App_Usage' 'Terminal' 'DVD_Burn' 'Badge' 'NTD_EXE' 'Chrome' 'NTD' nan\n",
      " 'RDP' 'TT' 'HR' 'Service' 'CAD']\n",
      "SHARED_INDICATOR_TYPE\n",
      "['Heat' 'Threshold' 'Atomic']\n",
      "SHARED_INDICATOR_SUFFIX:32unique values\n",
      "HEAT_VALUE\n",
      "[ 0.  4.  3. 40. 50. nan 20.  2.  5.  1. 30. 10.]\n",
      "Unnamed: 6\n",
      "[nan ' ']\n",
      "PERSON_TYPE\n",
      "['EMPLOYEE' 'FUNCTIONAL' 'CONTRACTOR' 'NON GE']\n",
      "PERSON_STATUS\n",
      "['I' 'A']\n",
      "DEPARTMENT_NAME:557unique values\n",
      "JOB_FUNCTION\n",
      "['Engineering/Technology' 'Manufacturing' 'Marketing' 'Product Management'\n",
      " 'Services' 'Finance' 'Sourcing' 'Digital Technology' 'Sales'\n",
      " 'Environmental Health & Safety' 'Project Management'\n",
      " 'Information Technology' 'Legal' 'Quality' 'Communications' 'Security'\n",
      " 'Human Resources' 'Logistics' 'Support Services'\n",
      " 'Financial Services Operations' 'Business Management'\n",
      " 'Business Development' 'Business Leadership Programs' 'Properties']\n",
      "JOB_TITLE:1000unique values\n",
      "CAREER_BAND\n",
      "['SPB' 'LPB' 'PB' 'OTHSAL' 'EB' 'LTB' 'HRLY' nan 'No_Data' 'SEB']\n",
      "LEGAL_ENTITY_NAME:74unique values\n",
      "DIVISION_NAME:157unique values\n",
      "BUSINESS_SEGMENT:34unique values\n",
      "INDUSTRY_FOCUS_NAME\n",
      "['GE Aviation' nan 'GE Transportation' 'GE Digital' 'GE Corporate'\n",
      " 'GE Power' 'GE Oil & Gas' 'Current & GE Lighting' 'GE Healthcare']\n",
      "GE_HIRE_DATE:1231unique values\n",
      "LOCATION_NAME:182unique values\n",
      "CITY:132unique values\n",
      "STATE_NAME:71unique values\n",
      "COUNTRY_NAME\n",
      "['United States' nan 'No_Data' 'India' 'Mexico' 'Turkey' 'Brazil'\n",
      " 'Malaysia' 'Italy' 'Canada' 'Poland' 'United Kingdom' 'China'\n",
      " 'Czech Republic' 'United Arab Emirates' 'Hungary' 'Australia' 'Germany'\n",
      " 'Singapore' 'Belgium']\n",
      "COUNTRY:26unique values\n",
      "FUNCTION_GROUP\n",
      "['Production' 'Commercial' nan 'Enabling']\n",
      "OUTPUT_LABEL\n",
      "[1 0]\n"
     ]
    }
   ],
   "source": [
    "# for each column\n",
    "for c in list (GE.columns):\n",
    "    #get a list of unique values\n",
    "    n = GE[c].unique()\n",
    "    \n",
    "    #if number of unique values is less than 25, print the values. Otherwise print the number of unique values\n",
    "    if len(n)<25:\n",
    "        print(c)\n",
    "        print(n)\n",
    "    else:\n",
    "        print(c+':'+str(len(n))+'unique values')"
   ]
  },
  {
   "cell_type": "markdown",
   "metadata": {},
   "source": [
    "#### From the analysis of columns, we can see that there are a mix of categorical variables and numerical variables.\n"
   ]
  },
  {
   "cell_type": "markdown",
   "metadata": {},
   "source": [
    "# Feature Engineering"
   ]
  },
  {
   "cell_type": "markdown",
   "metadata": {},
   "source": [
    "#### In this section, we are going to create features for our predictive model. "
   ]
  },
  {
   "cell_type": "markdown",
   "metadata": {},
   "source": [
    "## Numerical Features"
   ]
  },
  {
   "cell_type": "code",
   "execution_count": 18,
   "metadata": {},
   "outputs": [],
   "source": [
    "#replace blank with nan\n",
    "GE = GE.replace('',np.nan)"
   ]
  },
  {
   "cell_type": "code",
   "execution_count": 19,
   "metadata": {},
   "outputs": [],
   "source": [
    "cols_num = ['SCORE']"
   ]
  },
  {
   "cell_type": "code",
   "execution_count": 20,
   "metadata": {
    "scrolled": true
   },
   "outputs": [
    {
     "data": {
      "text/plain": [
       "SCORE    0\n",
       "dtype: int64"
      ]
     },
     "execution_count": 20,
     "metadata": {},
     "output_type": "execute_result"
    }
   ],
   "source": [
    "GE[cols_num].isnull().sum()"
   ]
  },
  {
   "cell_type": "code",
   "execution_count": 21,
   "metadata": {},
   "outputs": [
    {
     "data": {
      "text/plain": [
       "HEAT_VALUE\n",
       "0.0     31607\n",
       "1.0      7748\n",
       "2.0      1131\n",
       "3.0     69706\n",
       "4.0      5778\n",
       "5.0      6433\n",
       "10.0     5386\n",
       "20.0     1037\n",
       "30.0     2688\n",
       "40.0     5489\n",
       "50.0     6864\n",
       "dtype: int64"
      ]
     },
     "execution_count": 21,
     "metadata": {},
     "output_type": "execute_result"
    }
   ],
   "source": [
    "GE.groupby('HEAT_VALUE').size()"
   ]
  },
  {
   "cell_type": "markdown",
   "metadata": {},
   "source": [
    "## Categorical Features"
   ]
  },
  {
   "cell_type": "code",
   "execution_count": 22,
   "metadata": {},
   "outputs": [],
   "source": [
    "cols_cat = ['STATUS','CLASSIFICATION','RESOLUTION','OWNER_NAME','HRU',\n",
    "            'ALERT_CATEGORY','SHARED_INDICATOR_APPLICATION']"
   ]
  },
  {
   "cell_type": "code",
   "execution_count": 23,
   "metadata": {
    "scrolled": true
   },
   "outputs": [
    {
     "data": {
      "text/plain": [
       "SHARED_INDICATOR_APPLICATION\n",
       "App_1         4105\n",
       "App_10        2183\n",
       "App_11        4966\n",
       "App_12        2490\n",
       "App_13       41788\n",
       "App_14        1908\n",
       "App_15        3181\n",
       "App_16          51\n",
       "App_17           4\n",
       "App_18          18\n",
       "App_2          190\n",
       "App_20        1555\n",
       "App_22         259\n",
       "App_23           6\n",
       "App_24           6\n",
       "App_25         887\n",
       "App_26         353\n",
       "App_27        1575\n",
       "App_28          68\n",
       "App_3        19885\n",
       "App_4         2786\n",
       "App_5           29\n",
       "App_6          939\n",
       "App_7         3298\n",
       "App_9        67537\n",
       "Keywords      1042\n",
       "Threshold    19056\n",
       "Top_Users     6388\n",
       "dtype: int64"
      ]
     },
     "execution_count": 23,
     "metadata": {},
     "output_type": "execute_result"
    }
   ],
   "source": [
    "GE.groupby('SHARED_INDICATOR_APPLICATION').size()"
   ]
  },
  {
   "cell_type": "code",
   "execution_count": 24,
   "metadata": {},
   "outputs": [
    {
     "data": {
      "text/plain": [
       "STATUS                          0\n",
       "CLASSIFICATION                  0\n",
       "RESOLUTION                      0\n",
       "OWNER_NAME                      0\n",
       "HRU                             0\n",
       "ALERT_CATEGORY                  0\n",
       "SHARED_INDICATOR_APPLICATION    3\n",
       "dtype: int64"
      ]
     },
     "execution_count": 24,
     "metadata": {},
     "output_type": "execute_result"
    }
   ],
   "source": [
    "GE[cols_cat].isnull().sum()"
   ]
  },
  {
   "cell_type": "markdown",
   "metadata": {},
   "source": [
    "#### SHARED_INDICATOR_APPLICATION, BUSINESS_SEGMENT,COUNTRY, FUNCTION_GROUP have missing data. These are categorical data, using fillna( ) function to deal with missing values."
   ]
  },
  {
   "cell_type": "code",
   "execution_count": 25,
   "metadata": {},
   "outputs": [],
   "source": [
    "GE['SHARED_INDICATOR_APPLICATION'] = GE['SHARED_INDICATOR_APPLICATION'].fillna('UNK')\n",
    "GE['BUSINESS_SEGMENT'] = GE['BUSINESS_SEGMENT'].fillna('UNK')\n",
    "GE['FUNCTION_GROUP'] = GE['FUNCTION_GROUP'].fillna('UNK')"
   ]
  },
  {
   "cell_type": "code",
   "execution_count": 26,
   "metadata": {},
   "outputs": [
    {
     "name": "stdout",
     "output_type": "stream",
     "text": [
      "Number BUSINESS_SEGMENT: 34\n"
     ]
    },
    {
     "data": {
      "text/plain": [
       "BUSINESS_SEGMENT\n",
       "Aviation Engineering                                         80618\n",
       "Aviation Supply Chain                                        51441\n",
       "UNK                                                          25418\n",
       "Aviation Digital                                              5895\n",
       "Aviation Commercial Engines                                   3781\n",
       "Aviation Finance                                              3157\n",
       "Aviation Military Systems                                     2584\n",
       "Aviation Aeroderivatives                                      2491\n",
       "Aviation Business & General Aviation & Integrated Systems     2489\n",
       "Aviation Avionics & Digital Systems                           2307\n",
       "Aviation Additive                                             2035\n",
       "Aviation Services                                             1508\n",
       "Aviation AvioAero                                             1170\n",
       "Power Power Services                                           322\n",
       "Aviation Legal & Business Development                          291\n",
       "Aviation Sales & Marketing                                     226\n",
       "Aviation Human Resources                                       169\n",
       "Healthcare Human Resources                                     149\n",
       "Aviation Headquarters                                          120\n",
       "Oil & Gas Oilfield Equipment                                    91\n",
       "Aviation China                                                  69\n",
       "Oil & Gas Turbomachinery Process Solutions                      61\n",
       "Healthcare Global Services                                      58\n",
       "Power Gas Power Systems                                         21\n",
       "Corporate Finance & Operating Components                        15\n",
       "Transportation Headquarters                                     14\n",
       "Aviation Communications & GE Advantage                          14\n",
       "Current & Lighting GE Lighting                                  14\n",
       "Corporate Human Resources                                       10\n",
       "Oil & Gas Measurement & Controls                                 8\n",
       "Aviation Digital League                                          4\n",
       "Corporate Global Research                                        4\n",
       "Healthcare Global Law & Policy                                   1\n",
       "Healthcare Life Sciences                                         1\n",
       "dtype: int64"
      ]
     },
     "execution_count": 26,
     "metadata": {},
     "output_type": "execute_result"
    }
   ],
   "source": [
    "print('Number BUSINESS_SEGMENT:',GE.BUSINESS_SEGMENT.nunique())\n",
    "GE.groupby('BUSINESS_SEGMENT').size().sort_values(ascending = False)"
   ]
  },
  {
   "cell_type": "markdown",
   "metadata": {},
   "source": [
    "#### we can see that many of the records are unknown and the range of the distributin is large. Therefore, we can create a new variable called 'Other' that contains the sum of small records. "
   ]
  },
  {
   "cell_type": "code",
   "execution_count": 27,
   "metadata": {},
   "outputs": [],
   "source": [
    "top_13 = ['Aviation Engineering','Aviation Supply Chain','UNK','Aviation Digital','Aviation Commercial Engines',\n",
    "          'Aviation Finance','Aviation Military Systems','Aviation Aeroderivatives',\n",
    "          'Aviation Business & General Aviation & Integrated Systems',\n",
    "         'Aviation Avionics & Digital Systems','Aviation Additive','Aviation Services','Aviation AvioAero']\n",
    "# make a nuew column with duplicated data\n",
    "GE['Bus_seg']= GE['BUSINESS_SEGMENT'].copy()\n",
    "\n",
    "# replace all segments not in top 13 with 'Other' category\n",
    "GE.loc[~GE.Bus_seg.isin(top_13),'Bus_seg'] = ' Other'"
   ]
  },
  {
   "cell_type": "code",
   "execution_count": 28,
   "metadata": {
    "scrolled": true
   },
   "outputs": [
    {
     "data": {
      "text/plain": [
       "Bus_seg\n",
       " Other                                                        1662\n",
       "Aviation Additive                                             2035\n",
       "Aviation Aeroderivatives                                      2491\n",
       "Aviation AvioAero                                             1170\n",
       "Aviation Avionics & Digital Systems                           2307\n",
       "Aviation Business & General Aviation & Integrated Systems     2489\n",
       "Aviation Commercial Engines                                   3781\n",
       "Aviation Digital                                              5895\n",
       "Aviation Engineering                                         80618\n",
       "Aviation Finance                                              3157\n",
       "Aviation Military Systems                                     2584\n",
       "Aviation Services                                             1508\n",
       "Aviation Supply Chain                                        51441\n",
       "UNK                                                          25418\n",
       "dtype: int64"
      ]
     },
     "execution_count": 28,
     "metadata": {},
     "output_type": "execute_result"
    }
   ],
   "source": [
    "GE.groupby('Bus_seg').size()"
   ]
  },
  {
   "cell_type": "markdown",
   "metadata": {},
   "source": [
    "#### Now, I need to convert categorical features to numbers by using one-hot encoding. I create a new column for each unique value in that column. The get_dummies function will be used. Moreover, the get_dummies function does not work on numerical variables. We need to convert numerical data into strings."
   ]
  },
  {
   "cell_type": "code",
   "execution_count": 29,
   "metadata": {},
   "outputs": [],
   "source": [
    "GE_cat = pd.get_dummies(GE[cols_cat + ['Bus_seg']],drop_first = True)"
   ]
  },
  {
   "cell_type": "code",
   "execution_count": 30,
   "metadata": {},
   "outputs": [
    {
     "data": {
      "text/html": [
       "<div>\n",
       "<style scoped>\n",
       "    .dataframe tbody tr th:only-of-type {\n",
       "        vertical-align: middle;\n",
       "    }\n",
       "\n",
       "    .dataframe tbody tr th {\n",
       "        vertical-align: top;\n",
       "    }\n",
       "\n",
       "    .dataframe thead th {\n",
       "        text-align: right;\n",
       "    }\n",
       "</style>\n",
       "<table border=\"1\" class=\"dataframe\">\n",
       "  <thead>\n",
       "    <tr style=\"text-align: right;\">\n",
       "      <th></th>\n",
       "      <th>STATUS_confirmed</th>\n",
       "      <th>CLASSIFICATION_TP/DE</th>\n",
       "      <th>CLASSIFICATION_TP/HIGH</th>\n",
       "      <th>CLASSIFICATION_TP/LOW</th>\n",
       "      <th>RESOLUTION_in_progress</th>\n",
       "      <th>OWNER_NAME_Analyst_2</th>\n",
       "      <th>OWNER_NAME_Analyst_3</th>\n",
       "      <th>OWNER_NAME_Analyst_4</th>\n",
       "      <th>OWNER_NAME_Analyst_5</th>\n",
       "      <th>OWNER_NAME_Analyst_6</th>\n",
       "      <th>...</th>\n",
       "      <th>Bus_seg_Aviation Avionics &amp; Digital Systems</th>\n",
       "      <th>Bus_seg_Aviation Business &amp; General Aviation &amp; Integrated Systems</th>\n",
       "      <th>Bus_seg_Aviation Commercial Engines</th>\n",
       "      <th>Bus_seg_Aviation Digital</th>\n",
       "      <th>Bus_seg_Aviation Engineering</th>\n",
       "      <th>Bus_seg_Aviation Finance</th>\n",
       "      <th>Bus_seg_Aviation Military Systems</th>\n",
       "      <th>Bus_seg_Aviation Services</th>\n",
       "      <th>Bus_seg_Aviation Supply Chain</th>\n",
       "      <th>Bus_seg_UNK</th>\n",
       "    </tr>\n",
       "  </thead>\n",
       "  <tbody>\n",
       "    <tr>\n",
       "      <th>0</th>\n",
       "      <td>0</td>\n",
       "      <td>1</td>\n",
       "      <td>0</td>\n",
       "      <td>0</td>\n",
       "      <td>0</td>\n",
       "      <td>0</td>\n",
       "      <td>0</td>\n",
       "      <td>0</td>\n",
       "      <td>0</td>\n",
       "      <td>0</td>\n",
       "      <td>...</td>\n",
       "      <td>0</td>\n",
       "      <td>0</td>\n",
       "      <td>0</td>\n",
       "      <td>0</td>\n",
       "      <td>0</td>\n",
       "      <td>0</td>\n",
       "      <td>0</td>\n",
       "      <td>0</td>\n",
       "      <td>1</td>\n",
       "      <td>0</td>\n",
       "    </tr>\n",
       "    <tr>\n",
       "      <th>1</th>\n",
       "      <td>0</td>\n",
       "      <td>1</td>\n",
       "      <td>0</td>\n",
       "      <td>0</td>\n",
       "      <td>0</td>\n",
       "      <td>0</td>\n",
       "      <td>0</td>\n",
       "      <td>0</td>\n",
       "      <td>0</td>\n",
       "      <td>0</td>\n",
       "      <td>...</td>\n",
       "      <td>0</td>\n",
       "      <td>0</td>\n",
       "      <td>0</td>\n",
       "      <td>0</td>\n",
       "      <td>1</td>\n",
       "      <td>0</td>\n",
       "      <td>0</td>\n",
       "      <td>0</td>\n",
       "      <td>0</td>\n",
       "      <td>0</td>\n",
       "    </tr>\n",
       "    <tr>\n",
       "      <th>2</th>\n",
       "      <td>0</td>\n",
       "      <td>1</td>\n",
       "      <td>0</td>\n",
       "      <td>0</td>\n",
       "      <td>0</td>\n",
       "      <td>0</td>\n",
       "      <td>0</td>\n",
       "      <td>0</td>\n",
       "      <td>0</td>\n",
       "      <td>0</td>\n",
       "      <td>...</td>\n",
       "      <td>0</td>\n",
       "      <td>0</td>\n",
       "      <td>0</td>\n",
       "      <td>0</td>\n",
       "      <td>1</td>\n",
       "      <td>0</td>\n",
       "      <td>0</td>\n",
       "      <td>0</td>\n",
       "      <td>0</td>\n",
       "      <td>0</td>\n",
       "    </tr>\n",
       "    <tr>\n",
       "      <th>3</th>\n",
       "      <td>0</td>\n",
       "      <td>1</td>\n",
       "      <td>0</td>\n",
       "      <td>0</td>\n",
       "      <td>0</td>\n",
       "      <td>0</td>\n",
       "      <td>0</td>\n",
       "      <td>0</td>\n",
       "      <td>0</td>\n",
       "      <td>0</td>\n",
       "      <td>...</td>\n",
       "      <td>0</td>\n",
       "      <td>0</td>\n",
       "      <td>0</td>\n",
       "      <td>0</td>\n",
       "      <td>1</td>\n",
       "      <td>0</td>\n",
       "      <td>0</td>\n",
       "      <td>0</td>\n",
       "      <td>0</td>\n",
       "      <td>0</td>\n",
       "    </tr>\n",
       "    <tr>\n",
       "      <th>4</th>\n",
       "      <td>0</td>\n",
       "      <td>1</td>\n",
       "      <td>0</td>\n",
       "      <td>0</td>\n",
       "      <td>0</td>\n",
       "      <td>0</td>\n",
       "      <td>0</td>\n",
       "      <td>0</td>\n",
       "      <td>0</td>\n",
       "      <td>0</td>\n",
       "      <td>...</td>\n",
       "      <td>0</td>\n",
       "      <td>0</td>\n",
       "      <td>0</td>\n",
       "      <td>0</td>\n",
       "      <td>1</td>\n",
       "      <td>0</td>\n",
       "      <td>0</td>\n",
       "      <td>0</td>\n",
       "      <td>0</td>\n",
       "      <td>0</td>\n",
       "    </tr>\n",
       "  </tbody>\n",
       "</table>\n",
       "<p>5 rows × 69 columns</p>\n",
       "</div>"
      ],
      "text/plain": [
       "   STATUS_confirmed  CLASSIFICATION_TP/DE  CLASSIFICATION_TP/HIGH  \\\n",
       "0                 0                     1                       0   \n",
       "1                 0                     1                       0   \n",
       "2                 0                     1                       0   \n",
       "3                 0                     1                       0   \n",
       "4                 0                     1                       0   \n",
       "\n",
       "   CLASSIFICATION_TP/LOW  RESOLUTION_in_progress  OWNER_NAME_Analyst_2  \\\n",
       "0                      0                       0                     0   \n",
       "1                      0                       0                     0   \n",
       "2                      0                       0                     0   \n",
       "3                      0                       0                     0   \n",
       "4                      0                       0                     0   \n",
       "\n",
       "   OWNER_NAME_Analyst_3  OWNER_NAME_Analyst_4  OWNER_NAME_Analyst_5  \\\n",
       "0                     0                     0                     0   \n",
       "1                     0                     0                     0   \n",
       "2                     0                     0                     0   \n",
       "3                     0                     0                     0   \n",
       "4                     0                     0                     0   \n",
       "\n",
       "   OWNER_NAME_Analyst_6  ...  Bus_seg_Aviation Avionics & Digital Systems  \\\n",
       "0                     0  ...                                            0   \n",
       "1                     0  ...                                            0   \n",
       "2                     0  ...                                            0   \n",
       "3                     0  ...                                            0   \n",
       "4                     0  ...                                            0   \n",
       "\n",
       "   Bus_seg_Aviation Business & General Aviation & Integrated Systems  \\\n",
       "0                                                  0                   \n",
       "1                                                  0                   \n",
       "2                                                  0                   \n",
       "3                                                  0                   \n",
       "4                                                  0                   \n",
       "\n",
       "   Bus_seg_Aviation Commercial Engines  Bus_seg_Aviation Digital  \\\n",
       "0                                    0                         0   \n",
       "1                                    0                         0   \n",
       "2                                    0                         0   \n",
       "3                                    0                         0   \n",
       "4                                    0                         0   \n",
       "\n",
       "   Bus_seg_Aviation Engineering  Bus_seg_Aviation Finance  \\\n",
       "0                             0                         0   \n",
       "1                             1                         0   \n",
       "2                             1                         0   \n",
       "3                             1                         0   \n",
       "4                             1                         0   \n",
       "\n",
       "   Bus_seg_Aviation Military Systems  Bus_seg_Aviation Services  \\\n",
       "0                                  0                          0   \n",
       "1                                  0                          0   \n",
       "2                                  0                          0   \n",
       "3                                  0                          0   \n",
       "4                                  0                          0   \n",
       "\n",
       "   Bus_seg_Aviation Supply Chain  Bus_seg_UNK  \n",
       "0                              1            0  \n",
       "1                              0            0  \n",
       "2                              0            0  \n",
       "3                              0            0  \n",
       "4                              0            0  \n",
       "\n",
       "[5 rows x 69 columns]"
      ]
     },
     "execution_count": 30,
     "metadata": {},
     "output_type": "execute_result"
    }
   ],
   "source": [
    "GE_cat.head()"
   ]
  },
  {
   "cell_type": "code",
   "execution_count": 31,
   "metadata": {},
   "outputs": [],
   "source": [
    "GE = pd.concat([GE,GE_cat],axis = 1)"
   ]
  },
  {
   "cell_type": "code",
   "execution_count": 32,
   "metadata": {},
   "outputs": [],
   "source": [
    "cols_all_cat = list(GE_cat.columns)"
   ]
  },
  {
   "cell_type": "markdown",
   "metadata": {},
   "source": [
    "## Engineering Features Summary"
   ]
  },
  {
   "cell_type": "code",
   "execution_count": 33,
   "metadata": {},
   "outputs": [
    {
     "name": "stdout",
     "output_type": "stream",
     "text": [
      "Total number of features: 70\n",
      "Numerical Features: 1\n",
      "Categorical Features: 69\n"
     ]
    }
   ],
   "source": [
    "print('Total number of features:', len(cols_num +cols_all_cat))\n",
    "print('Numerical Features:',len(cols_num))\n",
    "print('Categorical Features:', len(cols_all_cat))\n"
   ]
  },
  {
   "cell_type": "code",
   "execution_count": 34,
   "metadata": {},
   "outputs": [
    {
     "data": {
      "text/plain": [
       "Bus_seg_UNK    0\n",
       "HRU_HRU8       0\n",
       "HRU_HRU19      0\n",
       "HRU_HRU2       0\n",
       "HRU_HRU3       0\n",
       "HRU_HRU5       0\n",
       "HRU_HRU6       0\n",
       "HRU_HRU7       0\n",
       "HRU_None       0\n",
       "HRU_HRU13      0\n",
       "dtype: int64"
      ]
     },
     "execution_count": 34,
     "metadata": {},
     "output_type": "execute_result"
    }
   ],
   "source": [
    "GE[cols_num+cols_all_cat].isnull().sum().sort_values(ascending = False).head(10)"
   ]
  },
  {
   "cell_type": "markdown",
   "metadata": {},
   "source": [
    "#### Let's make a new dataframe that only has the columns I am interested in."
   ]
  },
  {
   "cell_type": "code",
   "execution_count": 35,
   "metadata": {
    "scrolled": true
   },
   "outputs": [],
   "source": [
    "col2use = cols_num + cols_all_cat\n",
    "GE_data = GE[col2use + ['OUTPUT_LABEL']]"
   ]
  },
  {
   "cell_type": "markdown",
   "metadata": {},
   "source": [
    "## Building Training/Validation/Test Samples"
   ]
  },
  {
   "cell_type": "code",
   "execution_count": 36,
   "metadata": {},
   "outputs": [
    {
     "data": {
      "text/html": [
       "<div>\n",
       "<style scoped>\n",
       "    .dataframe tbody tr th:only-of-type {\n",
       "        vertical-align: middle;\n",
       "    }\n",
       "\n",
       "    .dataframe tbody tr th {\n",
       "        vertical-align: top;\n",
       "    }\n",
       "\n",
       "    .dataframe thead th {\n",
       "        text-align: right;\n",
       "    }\n",
       "</style>\n",
       "<table border=\"1\" class=\"dataframe\">\n",
       "  <thead>\n",
       "    <tr style=\"text-align: right;\">\n",
       "      <th></th>\n",
       "      <th>SCORE</th>\n",
       "      <th>STATUS_confirmed</th>\n",
       "      <th>CLASSIFICATION_TP/DE</th>\n",
       "      <th>CLASSIFICATION_TP/HIGH</th>\n",
       "      <th>CLASSIFICATION_TP/LOW</th>\n",
       "      <th>RESOLUTION_in_progress</th>\n",
       "      <th>OWNER_NAME_Analyst_2</th>\n",
       "      <th>OWNER_NAME_Analyst_3</th>\n",
       "      <th>OWNER_NAME_Analyst_4</th>\n",
       "      <th>OWNER_NAME_Analyst_5</th>\n",
       "      <th>...</th>\n",
       "      <th>Bus_seg_Aviation Business &amp; General Aviation &amp; Integrated Systems</th>\n",
       "      <th>Bus_seg_Aviation Commercial Engines</th>\n",
       "      <th>Bus_seg_Aviation Digital</th>\n",
       "      <th>Bus_seg_Aviation Engineering</th>\n",
       "      <th>Bus_seg_Aviation Finance</th>\n",
       "      <th>Bus_seg_Aviation Military Systems</th>\n",
       "      <th>Bus_seg_Aviation Services</th>\n",
       "      <th>Bus_seg_Aviation Supply Chain</th>\n",
       "      <th>Bus_seg_UNK</th>\n",
       "      <th>OUTPUT_LABEL</th>\n",
       "    </tr>\n",
       "  </thead>\n",
       "  <tbody>\n",
       "    <tr>\n",
       "      <th>0</th>\n",
       "      <td>180</td>\n",
       "      <td>0</td>\n",
       "      <td>1</td>\n",
       "      <td>0</td>\n",
       "      <td>0</td>\n",
       "      <td>0</td>\n",
       "      <td>0</td>\n",
       "      <td>0</td>\n",
       "      <td>0</td>\n",
       "      <td>0</td>\n",
       "      <td>...</td>\n",
       "      <td>0</td>\n",
       "      <td>0</td>\n",
       "      <td>0</td>\n",
       "      <td>0</td>\n",
       "      <td>0</td>\n",
       "      <td>0</td>\n",
       "      <td>0</td>\n",
       "      <td>1</td>\n",
       "      <td>0</td>\n",
       "      <td>1</td>\n",
       "    </tr>\n",
       "    <tr>\n",
       "      <th>1</th>\n",
       "      <td>172</td>\n",
       "      <td>0</td>\n",
       "      <td>1</td>\n",
       "      <td>0</td>\n",
       "      <td>0</td>\n",
       "      <td>0</td>\n",
       "      <td>0</td>\n",
       "      <td>0</td>\n",
       "      <td>0</td>\n",
       "      <td>0</td>\n",
       "      <td>...</td>\n",
       "      <td>0</td>\n",
       "      <td>0</td>\n",
       "      <td>0</td>\n",
       "      <td>1</td>\n",
       "      <td>0</td>\n",
       "      <td>0</td>\n",
       "      <td>0</td>\n",
       "      <td>0</td>\n",
       "      <td>0</td>\n",
       "      <td>1</td>\n",
       "    </tr>\n",
       "    <tr>\n",
       "      <th>2</th>\n",
       "      <td>172</td>\n",
       "      <td>0</td>\n",
       "      <td>1</td>\n",
       "      <td>0</td>\n",
       "      <td>0</td>\n",
       "      <td>0</td>\n",
       "      <td>0</td>\n",
       "      <td>0</td>\n",
       "      <td>0</td>\n",
       "      <td>0</td>\n",
       "      <td>...</td>\n",
       "      <td>0</td>\n",
       "      <td>0</td>\n",
       "      <td>0</td>\n",
       "      <td>1</td>\n",
       "      <td>0</td>\n",
       "      <td>0</td>\n",
       "      <td>0</td>\n",
       "      <td>0</td>\n",
       "      <td>0</td>\n",
       "      <td>1</td>\n",
       "    </tr>\n",
       "    <tr>\n",
       "      <th>3</th>\n",
       "      <td>172</td>\n",
       "      <td>0</td>\n",
       "      <td>1</td>\n",
       "      <td>0</td>\n",
       "      <td>0</td>\n",
       "      <td>0</td>\n",
       "      <td>0</td>\n",
       "      <td>0</td>\n",
       "      <td>0</td>\n",
       "      <td>0</td>\n",
       "      <td>...</td>\n",
       "      <td>0</td>\n",
       "      <td>0</td>\n",
       "      <td>0</td>\n",
       "      <td>1</td>\n",
       "      <td>0</td>\n",
       "      <td>0</td>\n",
       "      <td>0</td>\n",
       "      <td>0</td>\n",
       "      <td>0</td>\n",
       "      <td>1</td>\n",
       "    </tr>\n",
       "    <tr>\n",
       "      <th>4</th>\n",
       "      <td>172</td>\n",
       "      <td>0</td>\n",
       "      <td>1</td>\n",
       "      <td>0</td>\n",
       "      <td>0</td>\n",
       "      <td>0</td>\n",
       "      <td>0</td>\n",
       "      <td>0</td>\n",
       "      <td>0</td>\n",
       "      <td>0</td>\n",
       "      <td>...</td>\n",
       "      <td>0</td>\n",
       "      <td>0</td>\n",
       "      <td>0</td>\n",
       "      <td>1</td>\n",
       "      <td>0</td>\n",
       "      <td>0</td>\n",
       "      <td>0</td>\n",
       "      <td>0</td>\n",
       "      <td>0</td>\n",
       "      <td>1</td>\n",
       "    </tr>\n",
       "  </tbody>\n",
       "</table>\n",
       "<p>5 rows × 71 columns</p>\n",
       "</div>"
      ],
      "text/plain": [
       "   SCORE  STATUS_confirmed  CLASSIFICATION_TP/DE  CLASSIFICATION_TP/HIGH  \\\n",
       "0    180                 0                     1                       0   \n",
       "1    172                 0                     1                       0   \n",
       "2    172                 0                     1                       0   \n",
       "3    172                 0                     1                       0   \n",
       "4    172                 0                     1                       0   \n",
       "\n",
       "   CLASSIFICATION_TP/LOW  RESOLUTION_in_progress  OWNER_NAME_Analyst_2  \\\n",
       "0                      0                       0                     0   \n",
       "1                      0                       0                     0   \n",
       "2                      0                       0                     0   \n",
       "3                      0                       0                     0   \n",
       "4                      0                       0                     0   \n",
       "\n",
       "   OWNER_NAME_Analyst_3  OWNER_NAME_Analyst_4  OWNER_NAME_Analyst_5  ...  \\\n",
       "0                     0                     0                     0  ...   \n",
       "1                     0                     0                     0  ...   \n",
       "2                     0                     0                     0  ...   \n",
       "3                     0                     0                     0  ...   \n",
       "4                     0                     0                     0  ...   \n",
       "\n",
       "   Bus_seg_Aviation Business & General Aviation & Integrated Systems  \\\n",
       "0                                                  0                   \n",
       "1                                                  0                   \n",
       "2                                                  0                   \n",
       "3                                                  0                   \n",
       "4                                                  0                   \n",
       "\n",
       "   Bus_seg_Aviation Commercial Engines  Bus_seg_Aviation Digital  \\\n",
       "0                                    0                         0   \n",
       "1                                    0                         0   \n",
       "2                                    0                         0   \n",
       "3                                    0                         0   \n",
       "4                                    0                         0   \n",
       "\n",
       "   Bus_seg_Aviation Engineering  Bus_seg_Aviation Finance  \\\n",
       "0                             0                         0   \n",
       "1                             1                         0   \n",
       "2                             1                         0   \n",
       "3                             1                         0   \n",
       "4                             1                         0   \n",
       "\n",
       "   Bus_seg_Aviation Military Systems  Bus_seg_Aviation Services  \\\n",
       "0                                  0                          0   \n",
       "1                                  0                          0   \n",
       "2                                  0                          0   \n",
       "3                                  0                          0   \n",
       "4                                  0                          0   \n",
       "\n",
       "   Bus_seg_Aviation Supply Chain  Bus_seg_UNK  OUTPUT_LABEL  \n",
       "0                              1            0             1  \n",
       "1                              0            0             1  \n",
       "2                              0            0             1  \n",
       "3                              0            0             1  \n",
       "4                              0            0             1  \n",
       "\n",
       "[5 rows x 71 columns]"
      ]
     },
     "execution_count": 36,
     "metadata": {},
     "output_type": "execute_result"
    }
   ],
   "source": [
    "GE_data.head()"
   ]
  },
  {
   "cell_type": "code",
   "execution_count": 37,
   "metadata": {},
   "outputs": [],
   "source": [
    "# shuffle the samples\n",
    "GE_data = GE_data.sample(n=len(GE_data),random_state = 42)\n",
    "GE_data = GE_data.reset_index(drop= True)"
   ]
  },
  {
   "cell_type": "code",
   "execution_count": 38,
   "metadata": {},
   "outputs": [
    {
     "name": "stdout",
     "output_type": "stream",
     "text": [
      "Split size: 0.300\n"
     ]
    }
   ],
   "source": [
    "# save 30% of the data as validation and test data\n",
    "GE_valid_test = GE_data.sample(frac= 0.3, random_state = 42)\n",
    "print('Split size: %.3f'%(len(GE_valid_test)/len(GE_data)))"
   ]
  },
  {
   "cell_type": "code",
   "execution_count": 39,
   "metadata": {},
   "outputs": [],
   "source": [
    "GE_test = GE_valid_test.sample(frac = 0.5, random_state = 42)\n",
    "GE_valid = GE_valid_test.drop(GE_test.index)"
   ]
  },
  {
   "cell_type": "code",
   "execution_count": 40,
   "metadata": {},
   "outputs": [],
   "source": [
    "# use the rest of data as training data\n",
    "GE_train_all = GE_data.drop(GE_valid_test.index)"
   ]
  },
  {
   "cell_type": "code",
   "execution_count": 41,
   "metadata": {},
   "outputs": [
    {
     "name": "stdout",
     "output_type": "stream",
     "text": [
      "Test prevalence(n = 27984):0.616\n",
      "Valid prevalence(n = 27983):0.617\n",
      "Valid prevalence(n = 130589):0.614\n"
     ]
    }
   ],
   "source": [
    "print('Test prevalence(n = %d):%.3f'%(len(GE_test),calc_prevalence(GE_test.OUTPUT_LABEL.values)))\n",
    "print('Valid prevalence(n = %d):%.3f'%(len(GE_valid),calc_prevalence(GE_valid.OUTPUT_LABEL.values)))\n",
    "print('Valid prevalence(n = %d):%.3f'%(len(GE_train_all),calc_prevalence(GE_train_all.OUTPUT_LABEL.values)))"
   ]
  },
  {
   "cell_type": "markdown",
   "metadata": {},
   "source": [
    "#### The prevalence is about the same for each group"
   ]
  },
  {
   "cell_type": "code",
   "execution_count": 42,
   "metadata": {
    "scrolled": true
   },
   "outputs": [
    {
     "name": "stdout",
     "output_type": "stream",
     "text": [
      "all samples ( n = 186556)\n"
     ]
    }
   ],
   "source": [
    "print('all samples ( n = %d)'%len(GE_data))\n",
    "assert len(GE_data) == len(GE_test) + len(GE_valid) + len(GE_train_all),'math didnt work'"
   ]
  },
  {
   "cell_type": "code",
   "execution_count": 43,
   "metadata": {},
   "outputs": [],
   "source": [
    "# split the training data into positive and negative\n",
    "rows_pos = GE_train_all.OUTPUT_LABEL == 1\n",
    "GE_train_pos = GE_train_all.loc[rows_pos]\n",
    "GE_train_neg = GE_train_all.loc[~rows_pos]\n",
    "\n"
   ]
  },
  {
   "cell_type": "code",
   "execution_count": 44,
   "metadata": {},
   "outputs": [
    {
     "name": "stdout",
     "output_type": "stream",
     "text": [
      "(80126, 71) (50463, 71)\n"
     ]
    }
   ],
   "source": [
    "print(GE_train_pos.shape, GE_train_neg.shape)"
   ]
  },
  {
   "cell_type": "code",
   "execution_count": 45,
   "metadata": {},
   "outputs": [
    {
     "name": "stdout",
     "output_type": "stream",
     "text": [
      "Train balanced prevalence(n = 100926):0.500\n"
     ]
    }
   ],
   "source": [
    "# merge the balanced data\n",
    "GE_train = pd.concat([GE_train_pos.sample(n = len(GE_train_neg), random_state = 42), GE_train_neg],axis = 0).reset_index(drop=True)\n",
    "GE_train.head()\n",
    "\n",
    "# shuffle the order of training samples \n",
    "# GE_train = GE_train.sample(n = len(GE_train), random_state = 42).reset_index(drop = True)\n",
    "\n",
    "print('Train balanced prevalence(n = %d):%.3f'%(len(GE_train), calc_prevalence(GE_train.OUTPUT_LABEL.values)))"
   ]
  },
  {
   "cell_type": "code",
   "execution_count": 46,
   "metadata": {},
   "outputs": [],
   "source": [
    "GE_train_all.to_csv('GE_train_all.csv',index=False)\n",
    "GE_train.to_csv('GE_train.csv',index= False)\n",
    "GE_valid.to_csv('GE_valid.csv',index=False)\n",
    "GE_test.to_csv('GE_test.csv',index=False)"
   ]
  },
  {
   "cell_type": "code",
   "execution_count": 47,
   "metadata": {},
   "outputs": [
    {
     "name": "stdout",
     "output_type": "stream",
     "text": [
      "Training All shapes: (130589, 70)\n",
      "Training shapes: (100926, 70) (100926,)\n",
      "Validation shapes: (27983, 70) (27983,)\n"
     ]
    }
   ],
   "source": [
    "X_train = GE_train[col2use].values\n",
    "X_train_all = GE_train_all[col2use].values\n",
    "X_valid = GE_valid[col2use].values\n",
    "\n",
    "y_train = GE_train['OUTPUT_LABEL'].values\n",
    "y_valid = GE_valid['OUTPUT_LABEL'].values\n",
    "\n",
    "print('Training All shapes:',X_train_all.shape)\n",
    "print('Training shapes:',X_train.shape, y_train.shape)\n",
    "print('Validation shapes:',X_valid.shape, y_valid.shape)"
   ]
  },
  {
   "cell_type": "code",
   "execution_count": 48,
   "metadata": {},
   "outputs": [
    {
     "name": "stderr",
     "output_type": "stream",
     "text": [
      "/anaconda3/lib/python3.7/site-packages/sklearn/utils/validation.py:595: DataConversionWarning: Data with input dtype int64 was converted to float64 by StandardScaler.\n",
      "  warnings.warn(msg, DataConversionWarning)\n"
     ]
    },
    {
     "data": {
      "text/plain": [
       "StandardScaler(copy=True, with_mean=True, with_std=True)"
      ]
     },
     "execution_count": 48,
     "metadata": {},
     "output_type": "execute_result"
    }
   ],
   "source": [
    "from sklearn.preprocessing import StandardScaler\n",
    "\n",
    "scaler  = StandardScaler()\n",
    "scaler.fit(X_train_all)"
   ]
  },
  {
   "cell_type": "code",
   "execution_count": 49,
   "metadata": {},
   "outputs": [],
   "source": [
    "import pickle\n",
    "scalerfile = 'scaler.sav'\n",
    "pickle.dump(scaler, open(scalerfile, 'wb'))"
   ]
  },
  {
   "cell_type": "code",
   "execution_count": 50,
   "metadata": {},
   "outputs": [],
   "source": [
    "# load it back\n",
    "scaler = pickle.load(open(scalerfile, 'rb'))"
   ]
  },
  {
   "cell_type": "code",
   "execution_count": 51,
   "metadata": {},
   "outputs": [
    {
     "name": "stderr",
     "output_type": "stream",
     "text": [
      "/anaconda3/lib/python3.7/site-packages/sklearn/utils/validation.py:595: DataConversionWarning: Data with input dtype int64 was converted to float64 by StandardScaler.\n",
      "  warnings.warn(msg, DataConversionWarning)\n",
      "/anaconda3/lib/python3.7/site-packages/sklearn/utils/validation.py:595: DataConversionWarning: Data with input dtype int64 was converted to float64 by StandardScaler.\n",
      "  warnings.warn(msg, DataConversionWarning)\n"
     ]
    }
   ],
   "source": [
    "X_train_tf = scaler.transform(X_train)\n",
    "X_valid_tf = scaler.transform(X_valid)"
   ]
  },
  {
   "cell_type": "markdown",
   "metadata": {},
   "source": [
    "# Model Selection\n"
   ]
  },
  {
   "cell_type": "code",
   "execution_count": null,
   "metadata": {},
   "outputs": [],
   "source": []
  },
  {
   "cell_type": "code",
   "execution_count": 52,
   "metadata": {},
   "outputs": [],
   "source": [
    "from sklearn.metrics import roc_auc_score, accuracy_score, precision_score, recall_score\n",
    "def calc_specificity(y_actual, y_pred, thresh):\n",
    "    # calculates specificity\n",
    "    return sum((y_pred < thresh) & (y_actual == 0)) /sum(y_actual ==0)\n",
    "\n",
    "def print_report(y_actual, y_pred, thresh):\n",
    "    \n",
    "    auc = roc_auc_score(y_actual, y_pred)\n",
    "    accuracy = accuracy_score(y_actual, (y_pred > thresh))\n",
    "    recall = recall_score(y_actual, (y_pred > thresh))\n",
    "    precision = precision_score(y_actual, (y_pred > thresh))\n",
    "    specificity = calc_specificity(y_actual, y_pred, thresh)\n",
    "    print('AUC:%.3f'%auc)\n",
    "    print('accuracy:%.3f'%accuracy)\n",
    "    print('recall:%.3f'%recall)\n",
    "    print('precision:%.3f'%precision)\n",
    "    print('specificity:%.3f'%specificity)\n",
    "    print('prevalence:%.3f'%calc_prevalence(y_actual))\n",
    "    print(' ')\n",
    "    return auc, accuracy, recall, precision, specificity"
   ]
  },
  {
   "cell_type": "code",
   "execution_count": 53,
   "metadata": {},
   "outputs": [],
   "source": [
    "thresh = 0.5"
   ]
  },
  {
   "cell_type": "markdown",
   "metadata": {},
   "source": [
    "## Logistic regression"
   ]
  },
  {
   "cell_type": "code",
   "execution_count": 54,
   "metadata": {},
   "outputs": [
    {
     "name": "stderr",
     "output_type": "stream",
     "text": [
      "/anaconda3/lib/python3.7/site-packages/sklearn/linear_model/logistic.py:433: FutureWarning: Default solver will be changed to 'lbfgs' in 0.22. Specify a solver to silence this warning.\n",
      "  FutureWarning)\n"
     ]
    },
    {
     "data": {
      "text/plain": [
       "LogisticRegression(C=1.0, class_weight=None, dual=False, fit_intercept=True,\n",
       "          intercept_scaling=1, max_iter=100, multi_class='warn',\n",
       "          n_jobs=None, penalty='l2', random_state=42, solver='warn',\n",
       "          tol=0.0001, verbose=0, warm_start=False)"
      ]
     },
     "execution_count": 54,
     "metadata": {},
     "output_type": "execute_result"
    }
   ],
   "source": [
    "# logistic regression\n",
    "from sklearn.linear_model import LogisticRegression\n",
    "lr=LogisticRegression(random_state = 42)\n",
    "lr.fit(X_train_tf, y_train)"
   ]
  },
  {
   "cell_type": "code",
   "execution_count": 55,
   "metadata": {},
   "outputs": [
    {
     "name": "stdout",
     "output_type": "stream",
     "text": [
      "Logistic Regression\n",
      "Training:\n",
      "AUC:0.999\n",
      "accuracy:0.985\n",
      "recall:0.989\n",
      "precision:0.981\n",
      "specificity:0.981\n",
      "prevalence:0.500\n",
      " \n",
      "Validation:\n",
      "AUC:0.999\n",
      "accuracy:0.986\n",
      "recall:0.989\n",
      "precision:0.988\n",
      "specificity:0.981\n",
      "prevalence:0.617\n",
      " \n"
     ]
    }
   ],
   "source": [
    "y_train_preds = lr.predict_proba(X_train_tf)[:,1]\n",
    "y_valid_preds = lr.predict_proba(X_valid_tf)[:,1]\n",
    "\n",
    "print('Logistic Regression')\n",
    "print('Training:')\n",
    "lr_train_auc, lr_train_accuracy, lr_train_recall, \\\n",
    "    lr_train_precision, lr_train_specificity = print_report(y_train,y_train_preds, thresh)\n",
    "print('Validation:')\n",
    "lr_valid_auc, lr_valid_accuracy, lr_valid_recall, \\\n",
    "    lr_valid_precision, lr_valid_specificity = print_report(y_valid,y_valid_preds, thresh)"
   ]
  },
  {
   "cell_type": "markdown",
   "metadata": {},
   "source": [
    "## Stochastic Gradient Descent"
   ]
  },
  {
   "cell_type": "code",
   "execution_count": 56,
   "metadata": {},
   "outputs": [
    {
     "name": "stderr",
     "output_type": "stream",
     "text": [
      "/anaconda3/lib/python3.7/site-packages/sklearn/linear_model/stochastic_gradient.py:166: FutureWarning: max_iter and tol parameters have been added in SGDClassifier in 0.19. If both are left unset, they default to max_iter=5 and tol=None. If tol is not None, max_iter defaults to max_iter=1000. From 0.21, default max_iter will be 1000, and default tol will be 1e-3.\n",
      "  FutureWarning)\n"
     ]
    },
    {
     "data": {
      "text/plain": [
       "SGDClassifier(alpha=0.1, average=False, class_weight=None,\n",
       "       early_stopping=False, epsilon=0.1, eta0=0.0, fit_intercept=True,\n",
       "       l1_ratio=0.15, learning_rate='optimal', loss='log', max_iter=None,\n",
       "       n_iter=None, n_iter_no_change=5, n_jobs=None, penalty='l2',\n",
       "       power_t=0.5, random_state=42, shuffle=True, tol=None,\n",
       "       validation_fraction=0.1, verbose=0, warm_start=False)"
      ]
     },
     "execution_count": 56,
     "metadata": {},
     "output_type": "execute_result"
    }
   ],
   "source": [
    "from sklearn.linear_model import SGDClassifier\n",
    "sgdc=SGDClassifier(loss = 'log',alpha = 0.1,random_state = 42)\n",
    "sgdc.fit(X_train_tf, y_train)"
   ]
  },
  {
   "cell_type": "code",
   "execution_count": 57,
   "metadata": {},
   "outputs": [
    {
     "name": "stdout",
     "output_type": "stream",
     "text": [
      "Stochastic Gradient Descend\n",
      "Training:\n",
      "AUC:0.996\n",
      "accuracy:0.953\n",
      "recall:0.941\n",
      "precision:0.965\n",
      "specificity:0.966\n",
      "prevalence:0.500\n",
      " \n",
      "Validation:\n",
      "AUC:0.996\n",
      "accuracy:0.949\n",
      "recall:0.940\n",
      "precision:0.977\n",
      "specificity:0.964\n",
      "prevalence:0.617\n",
      " \n"
     ]
    }
   ],
   "source": [
    "y_train_preds = sgdc.predict_proba(X_train_tf)[:,1]\n",
    "y_valid_preds = sgdc.predict_proba(X_valid_tf)[:,1]\n",
    "\n",
    "print('Stochastic Gradient Descend')\n",
    "print('Training:')\n",
    "sgdc_train_auc, sgdc_train_accuracy, sgdc_train_recall, sgdc_train_precision, sgdc_train_specificity =print_report(y_train,y_train_preds, thresh)\n",
    "print('Validation:')\n",
    "sgdc_valid_auc, sgdc_valid_accuracy, sgdc_valid_recall, sgdc_valid_precision, sgdc_valid_specificity = print_report(y_valid,y_valid_preds, thresh)"
   ]
  },
  {
   "cell_type": "markdown",
   "metadata": {},
   "source": [
    "## Naive Bayes"
   ]
  },
  {
   "cell_type": "code",
   "execution_count": 58,
   "metadata": {},
   "outputs": [
    {
     "data": {
      "text/plain": [
       "GaussianNB(priors=None, var_smoothing=1e-09)"
      ]
     },
     "execution_count": 58,
     "metadata": {},
     "output_type": "execute_result"
    }
   ],
   "source": [
    "from sklearn.naive_bayes import GaussianNB\n",
    "\n",
    "nb = GaussianNB()\n",
    "nb.fit(X_train_tf, y_train)"
   ]
  },
  {
   "cell_type": "code",
   "execution_count": 59,
   "metadata": {},
   "outputs": [
    {
     "name": "stdout",
     "output_type": "stream",
     "text": [
      "Naive Bayes\n",
      "Training:\n",
      "AUC:0.984\n",
      "accuracy:0.959\n",
      "recall:0.949\n",
      "precision:0.969\n",
      "specificity:0.970\n",
      "prevalence:0.500\n",
      " \n",
      "Validation:\n",
      "AUC:0.984\n",
      "accuracy:0.957\n",
      "recall:0.949\n",
      "precision:0.981\n",
      "specificity:0.971\n",
      "prevalence:0.617\n",
      " \n"
     ]
    }
   ],
   "source": [
    "y_train_preds = nb.predict_proba(X_train_tf)[:,1]\n",
    "y_valid_preds = nb.predict_proba(X_valid_tf)[:,1]\n",
    "\n",
    "print('Naive Bayes')\n",
    "print('Training:')\n",
    "nb_train_auc, nb_train_accuracy, nb_train_recall, nb_train_precision, nb_train_specificity =print_report(y_train,y_train_preds, thresh)\n",
    "print('Validation:')\n",
    "nb_valid_auc, nb_valid_accuracy, nb_valid_recall, nb_valid_precision, nb_valid_specificity = print_report(y_valid,y_valid_preds, thresh)"
   ]
  },
  {
   "cell_type": "markdown",
   "metadata": {},
   "source": [
    "## Random Forest\n"
   ]
  },
  {
   "cell_type": "code",
   "execution_count": 60,
   "metadata": {},
   "outputs": [
    {
     "name": "stderr",
     "output_type": "stream",
     "text": [
      "/anaconda3/lib/python3.7/site-packages/sklearn/ensemble/forest.py:246: FutureWarning: The default value of n_estimators will change from 10 in version 0.20 to 100 in 0.22.\n",
      "  \"10 in version 0.20 to 100 in 0.22.\", FutureWarning)\n"
     ]
    },
    {
     "data": {
      "text/plain": [
       "RandomForestClassifier(bootstrap=True, class_weight=None, criterion='gini',\n",
       "            max_depth=6, max_features='auto', max_leaf_nodes=None,\n",
       "            min_impurity_decrease=0.0, min_impurity_split=None,\n",
       "            min_samples_leaf=1, min_samples_split=2,\n",
       "            min_weight_fraction_leaf=0.0, n_estimators=10, n_jobs=None,\n",
       "            oob_score=False, random_state=42, verbose=0, warm_start=False)"
      ]
     },
     "execution_count": 60,
     "metadata": {},
     "output_type": "execute_result"
    }
   ],
   "source": [
    "from sklearn.ensemble import RandomForestClassifier\n",
    "rf=RandomForestClassifier(max_depth = 6, random_state = 42)\n",
    "rf.fit(X_train_tf, y_train)"
   ]
  },
  {
   "cell_type": "code",
   "execution_count": 61,
   "metadata": {},
   "outputs": [
    {
     "name": "stdout",
     "output_type": "stream",
     "text": [
      "Random Forest\n",
      "Training:\n",
      "AUC:0.996\n",
      "accuracy:0.957\n",
      "recall:0.945\n",
      "precision:0.968\n",
      "specificity:0.969\n",
      "prevalence:0.500\n",
      " \n",
      "Validation:\n",
      "AUC:0.996\n",
      "accuracy:0.953\n",
      "recall:0.945\n",
      "precision:0.978\n",
      "specificity:0.966\n",
      "prevalence:0.617\n",
      " \n"
     ]
    }
   ],
   "source": [
    "y_train_preds = rf.predict_proba(X_train_tf)[:,1]\n",
    "y_valid_preds = rf.predict_proba(X_valid_tf)[:,1]\n",
    "\n",
    "print('Random Forest')\n",
    "print('Training:')\n",
    "rf_train_auc, rf_train_accuracy, rf_train_recall, rf_train_precision, rf_train_specificity =print_report(y_train,y_train_preds, thresh)\n",
    "print('Validation:')\n",
    "rf_valid_auc, rf_valid_accuracy, rf_valid_recall, rf_valid_precision, rf_valid_specificity = print_report(y_valid,y_valid_preds, thresh)"
   ]
  },
  {
   "cell_type": "markdown",
   "metadata": {},
   "source": [
    "## Decision Tree Classifier "
   ]
  },
  {
   "cell_type": "code",
   "execution_count": 62,
   "metadata": {},
   "outputs": [
    {
     "data": {
      "text/plain": [
       "DecisionTreeClassifier(class_weight=None, criterion='gini', max_depth=10,\n",
       "            max_features=None, max_leaf_nodes=None,\n",
       "            min_impurity_decrease=0.0, min_impurity_split=None,\n",
       "            min_samples_leaf=1, min_samples_split=2,\n",
       "            min_weight_fraction_leaf=0.0, presort=False, random_state=42,\n",
       "            splitter='best')"
      ]
     },
     "execution_count": 62,
     "metadata": {},
     "output_type": "execute_result"
    }
   ],
   "source": [
    "from sklearn.tree import DecisionTreeClassifier\n",
    "\n",
    "tree = DecisionTreeClassifier(max_depth = 10, random_state = 42)\n",
    "tree.fit(X_train_tf, y_train)"
   ]
  },
  {
   "cell_type": "code",
   "execution_count": 63,
   "metadata": {},
   "outputs": [
    {
     "name": "stdout",
     "output_type": "stream",
     "text": [
      "Decision Tree\n",
      "Training:\n",
      "AUC:1.000\n",
      "accuracy:0.993\n",
      "recall:0.996\n",
      "precision:0.989\n",
      "specificity:0.989\n",
      "prevalence:0.500\n",
      " \n",
      "Validation:\n",
      "AUC:0.999\n",
      "accuracy:0.992\n",
      "recall:0.995\n",
      "precision:0.992\n",
      "specificity:0.988\n",
      "prevalence:0.617\n",
      " \n"
     ]
    }
   ],
   "source": [
    "y_train_preds = tree.predict_proba(X_train_tf)[:,1]\n",
    "y_valid_preds = tree.predict_proba(X_valid_tf)[:,1]\n",
    "\n",
    "print('Decision Tree')\n",
    "print('Training:')\n",
    "tree_train_auc, tree_train_accuracy, tree_train_recall, tree_train_precision, tree_train_specificity =print_report(y_train,y_train_preds, thresh)\n",
    "print('Validation:')\n",
    "tree_valid_auc, tree_valid_accuracy, tree_valid_recall, tree_valid_precision, tree_valid_specificity = print_report(y_valid,y_valid_preds, thresh)"
   ]
  },
  {
   "cell_type": "markdown",
   "metadata": {},
   "source": [
    "## Gradient Boosting Classifier"
   ]
  },
  {
   "cell_type": "code",
   "execution_count": 64,
   "metadata": {},
   "outputs": [
    {
     "data": {
      "text/plain": [
       "GradientBoostingClassifier(criterion='friedman_mse', init=None,\n",
       "              learning_rate=1.0, loss='deviance', max_depth=3,\n",
       "              max_features=None, max_leaf_nodes=None,\n",
       "              min_impurity_decrease=0.0, min_impurity_split=None,\n",
       "              min_samples_leaf=1, min_samples_split=2,\n",
       "              min_weight_fraction_leaf=0.0, n_estimators=100,\n",
       "              n_iter_no_change=None, presort='auto', random_state=42,\n",
       "              subsample=1.0, tol=0.0001, validation_fraction=0.1,\n",
       "              verbose=0, warm_start=False)"
      ]
     },
     "execution_count": 64,
     "metadata": {},
     "output_type": "execute_result"
    }
   ],
   "source": [
    "from sklearn.ensemble import GradientBoostingClassifier\n",
    "gbc =GradientBoostingClassifier(n_estimators=100, learning_rate=1.0,\n",
    "     max_depth=3, random_state=42)\n",
    "gbc.fit(X_train_tf, y_train)"
   ]
  },
  {
   "cell_type": "code",
   "execution_count": 65,
   "metadata": {},
   "outputs": [
    {
     "name": "stdout",
     "output_type": "stream",
     "text": [
      "Gradient Boosting Classifier\n",
      "Training:\n",
      "AUC:1.000\n",
      "accuracy:0.996\n",
      "recall:0.998\n",
      "precision:0.995\n",
      "specificity:0.995\n",
      "prevalence:0.500\n",
      " \n",
      "Validation:\n",
      "AUC:1.000\n",
      "accuracy:0.995\n",
      "recall:0.996\n",
      "precision:0.996\n",
      "specificity:0.993\n",
      "prevalence:0.617\n",
      " \n"
     ]
    }
   ],
   "source": [
    "y_train_preds = gbc.predict_proba(X_train_tf)[:,1]\n",
    "y_valid_preds = gbc.predict_proba(X_valid_tf)[:,1]\n",
    "\n",
    "print('Gradient Boosting Classifier')\n",
    "print('Training:')\n",
    "gbc_train_auc, gbc_train_accuracy, gbc_train_recall, gbc_train_precision, gbc_train_specificity = print_report(y_train,y_train_preds, thresh)\n",
    "print('Validation:')\n",
    "gbc_valid_auc, gbc_valid_accuracy, gbc_valid_recall, gbc_valid_precision, gbc_valid_specificity = print_report(y_valid,y_valid_preds, thresh)"
   ]
  },
  {
   "cell_type": "code",
   "execution_count": null,
   "metadata": {},
   "outputs": [],
   "source": []
  },
  {
   "cell_type": "markdown",
   "metadata": {},
   "source": [
    "## Analyze results models"
   ]
  },
  {
   "cell_type": "code",
   "execution_count": 66,
   "metadata": {},
   "outputs": [],
   "source": [
    "df_results = pd.DataFrame({'classifier':['LR','LR','SGD','SGD','NB','NB','DT','DT','RF','RF','GB','GB'],\n",
    "                           'data_set':['train','valid']*6,\n",
    "                          'auc':[lr_train_auc,lr_valid_auc,sgdc_train_auc,sgdc_valid_auc,nb_train_auc,nb_valid_auc,tree_train_auc,tree_valid_auc,rf_train_auc,rf_valid_auc,gbc_valid_auc,gbc_valid_auc,],\n",
    "                          'accuracy':[lr_train_accuracy,lr_valid_accuracy,sgdc_train_accuracy,sgdc_valid_accuracy,nb_train_accuracy,nb_valid_accuracy,tree_train_accuracy,tree_valid_accuracy,rf_train_accuracy,rf_valid_accuracy,gbc_valid_accuracy,gbc_valid_accuracy,],\n",
    "                          'recall':[lr_train_recall,lr_valid_recall,sgdc_train_recall,sgdc_valid_recall,nb_train_recall,nb_valid_recall,tree_train_recall,tree_valid_recall,rf_train_recall,rf_valid_recall,gbc_valid_recall,gbc_valid_recall,],\n",
    "                          'precision':[lr_train_precision,lr_valid_precision,sgdc_train_precision,sgdc_valid_precision,nb_train_precision,nb_valid_precision,tree_train_precision,tree_valid_precision,rf_train_precision,rf_valid_precision,gbc_valid_auc,gbc_valid_precision,],\n",
    "                          'specificity':[lr_train_specificity,lr_valid_specificity,sgdc_train_specificity,sgdc_valid_specificity,nb_train_specificity,nb_valid_specificity,tree_train_specificity,tree_valid_specificity,rf_train_specificity,rf_valid_specificity,gbc_valid_specificity,gbc_valid_specificity,]})"
   ]
  },
  {
   "cell_type": "code",
   "execution_count": null,
   "metadata": {},
   "outputs": [],
   "source": []
  },
  {
   "cell_type": "code",
   "execution_count": 67,
   "metadata": {},
   "outputs": [],
   "source": [
    "import seaborn as sns\n",
    "import matplotlib.pyplot as plt\n",
    "sns.set(style=\"darkgrid\")"
   ]
  },
  {
   "cell_type": "code",
   "execution_count": null,
   "metadata": {},
   "outputs": [],
   "source": []
  },
  {
   "cell_type": "code",
   "execution_count": 68,
   "metadata": {},
   "outputs": [
    {
     "data": {
      "image/png": "[encoded data removed]",
      "text/plain": [
       "<Figure size 432x288 with 1 Axes>"
      ]
     },
     "metadata": {},
     "output_type": "display_data"
    }
   ],
   "source": [
    "ax = sns.barplot(x=\"classifier\", y=\"auc\", hue=\"data_set\", data=df_results)\n",
    "ax.set_xlabel('Classifier',fontsize = 15)\n",
    "ax.set_ylabel('AUC', fontsize = 15)\n",
    "ax.tick_params(labelsize=15)\n",
    "\n",
    "# Put the legend out of the figure\n",
    "plt.legend(bbox_to_anchor=(1.05, 1), loc=2, borderaxespad=0., fontsize = 15)\n",
    "plt.show()"
   ]
  },
  {
   "cell_type": "code",
   "execution_count": 69,
   "metadata": {},
   "outputs": [],
   "source": [
    "import numpy as np\n",
    "from sklearn.model_selection import learning_curve\n",
    "from sklearn.model_selection import ShuffleSplit\n",
    "\n",
    "def plot_learning_curve(estimator, title, X, y, ylim=None, cv=None,\n",
    "                        n_jobs=1, train_sizes=np.linspace(.1, 1.0, 5)):\n",
    "    \"\"\"\n",
    "    Generate a simple plot of the test and training learning curve.\n",
    "\n",
    "    Parameters\n",
    "    ----------\n",
    "    estimator : object type that implements the \"fit\" and \"predict\" methods\n",
    "        An object of that type which is cloned for each validation.\n",
    "\n",
    "    title : string\n",
    "        Title for the chart.\n",
    "\n",
    "    X : array-like, shape (n_samples, n_features)\n",
    "        Training vector, where n_samples is the number of samples and\n",
    "        n_features is the number of features.\n",
    "\n",
    "    y : array-like, shape (n_samples) or (n_samples, n_features), optional\n",
    "        Target relative to X for classification or regression;\n",
    "        None for unsupervised learning.\n",
    "\n",
    "    ylim : tuple, shape (ymin, ymax), optional\n",
    "        Defines minimum and maximum yvalues plotted.\n",
    "\n",
    "    cv : int, cross-validation generator or an iterable, optional\n",
    "        Determines the cross-validation splitting strategy.\n",
    "        Possible inputs for cv are:\n",
    "          - None, to use the default 3-fold cross-validation,\n",
    "          - integer, to specify the number of folds.\n",
    "          - An object to be used as a cross-validation generator.\n",
    "          - An iterable yielding train/test splits.\n",
    "\n",
    "        For integer/None inputs, if ``y`` is binary or multiclass,\n",
    "        :class:`StratifiedKFold` used. If the estimator is not a classifier\n",
    "        or if ``y`` is neither binary nor multiclass, :class:`KFold` is used.\n",
    "\n",
    "        Refer :ref:`User Guide <cross_validation>` for the various\n",
    "        cross-validators that can be used here.\n",
    "    n_jobs : integer, optional\n",
    "        Number of jobs to run in parallel (default 1).\n",
    "    \"\"\"\n",
    "    plt.figure()\n",
    "    plt.title(title)\n",
    "    if ylim is not None:\n",
    "        plt.ylim(*ylim)\n",
    "    plt.xlabel(\"Training examples\")\n",
    "    plt.ylabel(\"AUC\")\n",
    "    train_sizes, train_scores, test_scores = learning_curve(\n",
    "        estimator, X, y, cv=cv, n_jobs=n_jobs, train_sizes=train_sizes, scoring = 'roc_auc')\n",
    "    train_scores_mean = np.mean(train_scores, axis=1)\n",
    "    train_scores_std = np.std(train_scores, axis=1)\n",
    "    test_scores_mean = np.mean(test_scores, axis=1)\n",
    "    test_scores_std = np.std(test_scores, axis=1)\n",
    "    plt.grid()\n",
    "\n",
    "    plt.fill_between(train_sizes, train_scores_mean - train_scores_std,\n",
    "                     train_scores_mean + train_scores_std, alpha=0.1,\n",
    "                     color=\"r\")\n",
    "    plt.fill_between(train_sizes, test_scores_mean - test_scores_std,\n",
    "                     test_scores_mean + test_scores_std, alpha=0.1, color=\"b\")\n",
    "    plt.plot(train_sizes, train_scores_mean, 'o-', color=\"r\",\n",
    "             label=\"Training score\")\n",
    "    plt.plot(train_sizes, test_scores_mean, 'o-', color=\"b\",\n",
    "             label=\"Cross-validation score\")\n",
    "\n",
    "    plt.legend(loc=\"best\")\n",
    "    return plt"
   ]
  },
  {
   "cell_type": "code",
   "execution_count": 70,
   "metadata": {},
   "outputs": [
    {
     "data": {
      "image/png": "[encoded data removed]",
      "text/plain": [
       "<Figure size 432x288 with 1 Axes>"
      ]
     },
     "metadata": {},
     "output_type": "display_data"
    }
   ],
   "source": [
    "title = \"Learning Curves (Random Forest)\"\n",
    "# Cross validation with 5 iterations to get smoother mean test and train\n",
    "# score curves, each time with 20% data randomly selected as a validation set.\n",
    "cv = ShuffleSplit(n_splits=5, test_size=0.2, random_state=42)\n",
    "estimator = RandomForestClassifier(max_depth = 6, random_state = 42)\n",
    "plot_learning_curve(estimator, title, X_train_tf, y_train, ylim=(0.2, 1.01), cv=cv, n_jobs=4)\n",
    "\n",
    "plt.show()"
   ]
  },
  {
   "cell_type": "markdown",
   "metadata": {},
   "source": [
    "## Model Selection: Feature Importance"
   ]
  },
  {
   "cell_type": "code",
   "execution_count": 71,
   "metadata": {},
   "outputs": [],
   "source": [
    "feature_importances = pd.DataFrame(lr.coef_[0],\n",
    "                                   index = col2use,\n",
    "                                    columns=['importance']).sort_values('importance',\n",
    "                                                                        ascending=False)"
   ]
  },
  {
   "cell_type": "code",
   "execution_count": 72,
   "metadata": {},
   "outputs": [
    {
     "data": {
      "text/html": [
       "<div>\n",
       "<style scoped>\n",
       "    .dataframe tbody tr th:only-of-type {\n",
       "        vertical-align: middle;\n",
       "    }\n",
       "\n",
       "    .dataframe tbody tr th {\n",
       "        vertical-align: top;\n",
       "    }\n",
       "\n",
       "    .dataframe thead th {\n",
       "        text-align: right;\n",
       "    }\n",
       "</style>\n",
       "<table border=\"1\" class=\"dataframe\">\n",
       "  <thead>\n",
       "    <tr style=\"text-align: right;\">\n",
       "      <th></th>\n",
       "      <th>importance</th>\n",
       "    </tr>\n",
       "  </thead>\n",
       "  <tbody>\n",
       "    <tr>\n",
       "      <th>CLASSIFICATION_TP/DE</th>\n",
       "      <td>7.523848</td>\n",
       "    </tr>\n",
       "    <tr>\n",
       "      <th>CLASSIFICATION_TP/LOW</th>\n",
       "      <td>3.208978</td>\n",
       "    </tr>\n",
       "    <tr>\n",
       "      <th>CLASSIFICATION_TP/HIGH</th>\n",
       "      <td>1.368217</td>\n",
       "    </tr>\n",
       "    <tr>\n",
       "      <th>OWNER_NAME_Senior_Analyst_2</th>\n",
       "      <td>0.274307</td>\n",
       "    </tr>\n",
       "    <tr>\n",
       "      <th>Bus_seg_Aviation Services</th>\n",
       "      <td>0.269943</td>\n",
       "    </tr>\n",
       "  </tbody>\n",
       "</table>\n",
       "</div>"
      ],
      "text/plain": [
       "                             importance\n",
       "CLASSIFICATION_TP/DE           7.523848\n",
       "CLASSIFICATION_TP/LOW          3.208978\n",
       "CLASSIFICATION_TP/HIGH         1.368217\n",
       "OWNER_NAME_Senior_Analyst_2    0.274307\n",
       "Bus_seg_Aviation Services      0.269943"
      ]
     },
     "execution_count": 72,
     "metadata": {},
     "output_type": "execute_result"
    }
   ],
   "source": [
    "feature_importances.head()"
   ]
  },
  {
   "cell_type": "code",
   "execution_count": 73,
   "metadata": {},
   "outputs": [
    {
     "data": {
      "image/png": "[encoded data removed]",
      "text/plain": [
       "<Figure size 640x1200 with 1 Axes>"
      ]
     },
     "metadata": {},
     "output_type": "display_data"
    }
   ],
   "source": [
    "num = 50\n",
    "ylocs = np.arange(num)\n",
    "# get the feature importance for top num and sort in reverse order\n",
    "values_to_plot = feature_importances.iloc[:num].values.ravel()[::-1]\n",
    "feature_labels = list(feature_importances.iloc[:num].index)[::-1]\n",
    "\n",
    "plt.figure(num=None, figsize=(8, 15), dpi=80, facecolor='w', edgecolor='k');\n",
    "plt.barh(ylocs, values_to_plot, align = 'center')\n",
    "plt.ylabel('Features')\n",
    "plt.xlabel('Importance Score')\n",
    "plt.title('Positive Feature Importance Score - Logistic Regression')\n",
    "plt.yticks(ylocs, feature_labels)\n",
    "plt.show()"
   ]
  },
  {
   "cell_type": "code",
   "execution_count": 74,
   "metadata": {},
   "outputs": [
    {
     "data": {
      "image/png": "[encoded data removed]",
      "text/plain": [
       "<Figure size 640x1200 with 1 Axes>"
      ]
     },
     "metadata": {},
     "output_type": "display_data"
    }
   ],
   "source": [
    "values_to_plot = feature_importances.iloc[-num:].values.ravel()\n",
    "feature_labels = list(feature_importances.iloc[-num:].index)\n",
    "\n",
    "plt.figure(num=None, figsize=(8, 15), dpi=80, facecolor='w', edgecolor='k');\n",
    "plt.barh(ylocs, values_to_plot, align = 'center')\n",
    "plt.ylabel('Features')\n",
    "plt.xlabel('Importance Score')\n",
    "plt.title('Negative Feature Importance Score - Logistic Regression')\n",
    "plt.yticks(ylocs, feature_labels)\n",
    "plt.show()"
   ]
  },
  {
   "cell_type": "code",
   "execution_count": null,
   "metadata": {},
   "outputs": [],
   "source": []
  }
 ],
 "metadata": {
  "kernelspec": {
   "display_name": "Python 3",
   "language": "python",
   "name": "python3"
  },
  "language_info": {
   "codemirror_mode": {
    "name": "ipython",
    "version": 3
   },
   "file_extension": ".py",
   "mimetype": "text/x-python",
   "name": "python",
   "nbconvert_exporter": "python",
   "pygments_lexer": "ipython3",
   "version": "3.7.1"
  }
 },
 "nbformat": 4,
 "nbformat_minor": 2
}
